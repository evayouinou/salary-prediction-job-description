{
 "cells": [
  {
   "cell_type": "markdown",
   "id": "b05c258d",
   "metadata": {},
   "source": [
    "# Salary prediction using job description"
   ]
  },
  {
   "cell_type": "markdown",
   "id": "34e0f6a9",
   "metadata": {},
   "source": [
    "## Packages importation"
   ]
  },
  {
   "cell_type": "code",
   "execution_count": 1,
   "id": "3aed7dc0-dc56-4deb-bc17-51631150b2ca",
   "metadata": {
    "tags": []
   },
   "outputs": [
    {
     "name": "stderr",
     "output_type": "stream",
     "text": [
      "2023-09-17 18:17:27.643369: I tensorflow/core/platform/cpu_feature_guard.cc:182] This TensorFlow binary is optimized to use available CPU instructions in performance-critical operations.\n",
      "To enable the following instructions: SSE4.1 SSE4.2 AVX AVX2 AVX512F AVX512_VNNI FMA, in other operations, rebuild TensorFlow with the appropriate compiler flags.\n"
     ]
    }
   ],
   "source": [
    "# Packages importation\n",
    "import pandas as pd\n",
    "import numpy as np\n",
    "import os\n",
    "import time\n",
    "from tqdm import tqdm\n",
    "import spacy\n",
    "\n",
    "import warnings\n",
    "warnings.filterwarnings('ignore')"
   ]
  },
  {
   "cell_type": "code",
   "execution_count": 2,
   "id": "4ec9f590-0908-4a17-8a4c-061bcd5ea74a",
   "metadata": {
    "tags": []
   },
   "outputs": [],
   "source": [
    "# Packages needed for the keras model\n",
    "import tensorflow as tf\n",
    "from tensorflow.keras import datasets, layers, models\n",
    "from tensorflow.keras import Model\n",
    "from tensorflow.keras.layers import Input, Embedding, Conv1D, GlobalMaxPooling1D, Flatten, BatchNormalization, Dense"
   ]
  },
  {
   "cell_type": "code",
   "execution_count": 3,
   "id": "3d2709db-72e6-483d-9904-fbec4f33605c",
   "metadata": {
    "tags": []
   },
   "outputs": [],
   "source": [
    "# Packages needed for the BERT layer\n",
    "import tensorflow_hub as hub\n",
    "import tensorflow_text as text"
   ]
  },
  {
   "cell_type": "code",
   "execution_count": 4,
   "id": "60570aeb-16b2-4beb-8e4d-9493e9c1e523",
   "metadata": {
    "scrolled": true,
    "tags": []
   },
   "outputs": [
    {
     "data": {
      "text/plain": [
       "[]"
      ]
     },
     "execution_count": 4,
     "metadata": {},
     "output_type": "execute_result"
    }
   ],
   "source": [
    "#To check whether a GPU is used\n",
    "tf.config.list_physical_devices('GPU')"
   ]
  },
  {
   "cell_type": "markdown",
   "id": "5e758c02-3c90-4503-b3b4-2e776d8cce46",
   "metadata": {
    "tags": []
   },
   "source": [
    "## Data importation"
   ]
  },
  {
   "cell_type": "code",
   "execution_count": 5,
   "id": "3848ac98-1ab4-45c8-9b60-8e6dd47e6a1b",
   "metadata": {
    "scrolled": true,
    "tags": []
   },
   "outputs": [
    {
     "data": {
      "text/html": [
       "<div>\n",
       "<style scoped>\n",
       "    .dataframe tbody tr th:only-of-type {\n",
       "        vertical-align: middle;\n",
       "    }\n",
       "\n",
       "    .dataframe tbody tr th {\n",
       "        vertical-align: top;\n",
       "    }\n",
       "\n",
       "    .dataframe thead th {\n",
       "        text-align: right;\n",
       "    }\n",
       "</style>\n",
       "<table border=\"1\" class=\"dataframe\">\n",
       "  <thead>\n",
       "    <tr style=\"text-align: right;\">\n",
       "      <th></th>\n",
       "      <th>Unnamed: 0</th>\n",
       "      <th>url</th>\n",
       "      <th>date_first_seen_day</th>\n",
       "      <th>date_scraping</th>\n",
       "      <th>site_name</th>\n",
       "      <th>site_child</th>\n",
       "      <th>scraping_failure_status</th>\n",
       "      <th>id_jocas</th>\n",
       "      <th>date_first_disappeared_day</th>\n",
       "      <th>date_last_seen_day</th>\n",
       "      <th>...</th>\n",
       "      <th>partner_name</th>\n",
       "      <th>partner_status</th>\n",
       "      <th>teleworking_accepted</th>\n",
       "      <th>teleworking_type</th>\n",
       "      <th>teleworking_mentioned</th>\n",
       "      <th>experience_min</th>\n",
       "      <th>experience_max</th>\n",
       "      <th>education_level</th>\n",
       "      <th>education_field</th>\n",
       "      <th>rome_loc_firm</th>\n",
       "    </tr>\n",
       "  </thead>\n",
       "  <tbody>\n",
       "    <tr>\n",
       "      <th>0</th>\n",
       "      <td>apec.2</td>\n",
       "      <td>https://www.apec.fr/cms/webservices/offre/publ...</td>\n",
       "      <td>2022-01-01</td>\n",
       "      <td>Sat Jan  1 21:21:59 2022</td>\n",
       "      <td>apec</td>\n",
       "      <td>NaN</td>\n",
       "      <td>False</td>\n",
       "      <td>APEC_2022-01-01_2</td>\n",
       "      <td>NaN</td>\n",
       "      <td>NaN</td>\n",
       "      <td>...</td>\n",
       "      <td>NaN</td>\n",
       "      <td>False</td>\n",
       "      <td>NaN</td>\n",
       "      <td>NaN</td>\n",
       "      <td>False</td>\n",
       "      <td>5.0</td>\n",
       "      <td>NaN</td>\n",
       "      <td>NaN</td>\n",
       "      <td>NaN</td>\n",
       "      <td>True</td>\n",
       "    </tr>\n",
       "    <tr>\n",
       "      <th>1</th>\n",
       "      <td>apec.3</td>\n",
       "      <td>https://www.apec.fr/cms/webservices/offre/publ...</td>\n",
       "      <td>2022-01-01</td>\n",
       "      <td>Sat Jan  1 21:22:00 2022</td>\n",
       "      <td>apec</td>\n",
       "      <td>NaN</td>\n",
       "      <td>False</td>\n",
       "      <td>APEC_2022-01-01_3</td>\n",
       "      <td>NaN</td>\n",
       "      <td>NaN</td>\n",
       "      <td>...</td>\n",
       "      <td>NaN</td>\n",
       "      <td>False</td>\n",
       "      <td>NaN</td>\n",
       "      <td>NaN</td>\n",
       "      <td>False</td>\n",
       "      <td>5.0</td>\n",
       "      <td>NaN</td>\n",
       "      <td>NaN</td>\n",
       "      <td>NaN</td>\n",
       "      <td>True</td>\n",
       "    </tr>\n",
       "    <tr>\n",
       "      <th>2</th>\n",
       "      <td>apec.4</td>\n",
       "      <td>https://www.apec.fr/cms/webservices/offre/publ...</td>\n",
       "      <td>2022-01-01</td>\n",
       "      <td>Sat Jan  1 21:22:01 2022</td>\n",
       "      <td>apec</td>\n",
       "      <td>NaN</td>\n",
       "      <td>False</td>\n",
       "      <td>APEC_2022-01-01_4</td>\n",
       "      <td>NaN</td>\n",
       "      <td>NaN</td>\n",
       "      <td>...</td>\n",
       "      <td>NaN</td>\n",
       "      <td>False</td>\n",
       "      <td>NaN</td>\n",
       "      <td>NaN</td>\n",
       "      <td>False</td>\n",
       "      <td>10.0</td>\n",
       "      <td>NaN</td>\n",
       "      <td>NaN</td>\n",
       "      <td>NaN</td>\n",
       "      <td>True</td>\n",
       "    </tr>\n",
       "    <tr>\n",
       "      <th>3</th>\n",
       "      <td>apec.5</td>\n",
       "      <td>https://www.apec.fr/cms/webservices/offre/publ...</td>\n",
       "      <td>2022-01-01</td>\n",
       "      <td>Sat Jan  1 21:22:02 2022</td>\n",
       "      <td>apec</td>\n",
       "      <td>NaN</td>\n",
       "      <td>False</td>\n",
       "      <td>APEC_2022-01-01_5</td>\n",
       "      <td>NaN</td>\n",
       "      <td>NaN</td>\n",
       "      <td>...</td>\n",
       "      <td>NaN</td>\n",
       "      <td>False</td>\n",
       "      <td>NaN</td>\n",
       "      <td>NaN</td>\n",
       "      <td>False</td>\n",
       "      <td>3.0</td>\n",
       "      <td>NaN</td>\n",
       "      <td>NaN</td>\n",
       "      <td>NaN</td>\n",
       "      <td>True</td>\n",
       "    </tr>\n",
       "    <tr>\n",
       "      <th>4</th>\n",
       "      <td>apec.6</td>\n",
       "      <td>https://www.apec.fr/cms/webservices/offre/publ...</td>\n",
       "      <td>2022-01-01</td>\n",
       "      <td>Sat Jan  1 21:22:04 2022</td>\n",
       "      <td>apec</td>\n",
       "      <td>NaN</td>\n",
       "      <td>False</td>\n",
       "      <td>APEC_2022-01-01_6</td>\n",
       "      <td>NaN</td>\n",
       "      <td>NaN</td>\n",
       "      <td>...</td>\n",
       "      <td>NaN</td>\n",
       "      <td>False</td>\n",
       "      <td>NaN</td>\n",
       "      <td>NaN</td>\n",
       "      <td>False</td>\n",
       "      <td>5.0</td>\n",
       "      <td>NaN</td>\n",
       "      <td>NaN</td>\n",
       "      <td>NaN</td>\n",
       "      <td>True</td>\n",
       "    </tr>\n",
       "  </tbody>\n",
       "</table>\n",
       "<p>5 rows × 57 columns</p>\n",
       "</div>"
      ],
      "text/plain": [
       "  Unnamed: 0                                                url  \\\n",
       "0     apec.2  https://www.apec.fr/cms/webservices/offre/publ...   \n",
       "1     apec.3  https://www.apec.fr/cms/webservices/offre/publ...   \n",
       "2     apec.4  https://www.apec.fr/cms/webservices/offre/publ...   \n",
       "3     apec.5  https://www.apec.fr/cms/webservices/offre/publ...   \n",
       "4     apec.6  https://www.apec.fr/cms/webservices/offre/publ...   \n",
       "\n",
       "  date_first_seen_day             date_scraping site_name site_child  \\\n",
       "0          2022-01-01  Sat Jan  1 21:21:59 2022      apec        NaN   \n",
       "1          2022-01-01  Sat Jan  1 21:22:00 2022      apec        NaN   \n",
       "2          2022-01-01  Sat Jan  1 21:22:01 2022      apec        NaN   \n",
       "3          2022-01-01  Sat Jan  1 21:22:02 2022      apec        NaN   \n",
       "4          2022-01-01  Sat Jan  1 21:22:04 2022      apec        NaN   \n",
       "\n",
       "   scraping_failure_status           id_jocas date_first_disappeared_day  \\\n",
       "0                    False  APEC_2022-01-01_2                        NaN   \n",
       "1                    False  APEC_2022-01-01_3                        NaN   \n",
       "2                    False  APEC_2022-01-01_4                        NaN   \n",
       "3                    False  APEC_2022-01-01_5                        NaN   \n",
       "4                    False  APEC_2022-01-01_6                        NaN   \n",
       "\n",
       "  date_last_seen_day  ... partner_name partner_status teleworking_accepted  \\\n",
       "0                NaN  ...          NaN          False                  NaN   \n",
       "1                NaN  ...          NaN          False                  NaN   \n",
       "2                NaN  ...          NaN          False                  NaN   \n",
       "3                NaN  ...          NaN          False                  NaN   \n",
       "4                NaN  ...          NaN          False                  NaN   \n",
       "\n",
       "  teleworking_type teleworking_mentioned experience_min experience_max  \\\n",
       "0              NaN                 False            5.0            NaN   \n",
       "1              NaN                 False            5.0            NaN   \n",
       "2              NaN                 False           10.0            NaN   \n",
       "3              NaN                 False            3.0            NaN   \n",
       "4              NaN                 False            5.0            NaN   \n",
       "\n",
       "  education_level education_field  rome_loc_firm  \n",
       "0             NaN             NaN           True  \n",
       "1             NaN             NaN           True  \n",
       "2             NaN             NaN           True  \n",
       "3             NaN             NaN           True  \n",
       "4             NaN             NaN           True  \n",
       "\n",
       "[5 rows x 57 columns]"
      ]
     },
     "execution_count": 5,
     "metadata": {},
     "output_type": "execute_result"
    }
   ],
   "source": [
    "# Data importation: either Pole Emploi data or Jocas data\n",
    "# Pole Emploi data\n",
    "data_a = pd.read_csv(\"~/work/data_2019a_full.csv\", parse_dates=[2], infer_datetime_format=True, low_memory=False)\n",
    "data_b = pd.read_csv(\"~/work/data_2019b_full.csv\", parse_dates=[2], infer_datetime_format=True, low_memory=False)\n",
    "\n",
    "data = pd.concat([data_a, data_b], ignore_index=True)\n",
    "\n",
    "#JOCAS data\n",
    "data = pd.read_csv(\"~/skills/jocas_2022.csv\", low_memory=False)\n",
    "\n",
    "data.head(5)"
   ]
  },
  {
   "cell_type": "code",
   "execution_count": 73,
   "id": "83578df4",
   "metadata": {
    "tags": []
   },
   "outputs": [
    {
     "name": "stdout",
     "output_type": "stream",
     "text": [
      "(420887, 51)\n",
      "(319859, 51)\n"
     ]
    }
   ],
   "source": [
    "# For Pole Emploi data only\n",
    "# Keeping only observations with non-missing salary\n",
    "df_sal = data[~data['salmin_etp'].isnull()]\n",
    "print(data.shape)\n",
    "print(df_sal.shape)"
   ]
  },
  {
   "cell_type": "code",
   "execution_count": null,
   "id": "50906c1d",
   "metadata": {},
   "outputs": [],
   "source": [
    "# For Jocas data only\n",
    "df_sal = data[~data['salary_min'].isnull()]\n",
    "print(data.shape)\n",
    "print(df_sal.shape)"
   ]
  },
  {
   "cell_type": "code",
   "execution_count": 75,
   "id": "bcc93a9e",
   "metadata": {
    "tags": []
   },
   "outputs": [],
   "source": [
    "# For Pole Emploi data\n",
    "# Regrouping all skill requirement in one column as a succession of sentences\n",
    "df_sal = df_sal.fillna('')\n",
    "df_sal['specificites'] = df_sal.filter(regex=\"specificites\", axis=1).T.agg('.'.join)"
   ]
  },
  {
   "cell_type": "code",
   "execution_count": 74,
   "id": "62f905d9-fc44-44d3-893a-3467e8e9cf75",
   "metadata": {
    "tags": []
   },
   "outputs": [],
   "source": [
    "# Random sample of 100,000 observations\n",
    "tqdm.pandas()\n",
    "df = df_sal.sample(n=100000, random_state=0).copy()"
   ]
  },
  {
   "cell_type": "markdown",
   "id": "f5b606db-aeb3-4b88-983b-9f34bb0c9e7e",
   "metadata": {
    "jp-MarkdownHeadingCollapsed": true,
    "tags": []
   },
   "source": [
    "## BERT Embedding"
   ]
  },
  {
   "cell_type": "code",
   "execution_count": 7,
   "id": "74e51047-c6bb-4ec1-9709-dcee94fb7264",
   "metadata": {
    "tags": []
   },
   "outputs": [
    {
     "name": "stderr",
     "output_type": "stream",
     "text": [
      "2023-09-17 18:21:57.736147: I tensorflow/core/common_runtime/process_util.cc:146] Creating new thread pool with default inter op setting: 2. Tune using inter_op_parallelism_threads for best performance.\n",
      "2023-09-17 18:21:57.869226: I tensorflow/core/common_runtime/executor.cc:1197] [/device:CPU:0] (DEBUG INFO) Executor start aborting (this does not indicate an error and you can ignore this message): INVALID_ARGUMENT: You must feed a value for placeholder tensor 'trimmer_trim_roundrobintrimmer_generate_mask_while_tile_multiples_trimmer_trim_roundrobintrimmer_generate_mask_strided_slice_0' with dtype int32\n",
      "\t [[{{node trimmer_trim_roundrobintrimmer_generate_mask_while_tile_multiples_trimmer_trim_roundrobintrimmer_generate_mask_strided_slice_0}}]]\n",
      "2023-09-17 18:21:57.869379: I tensorflow/core/common_runtime/executor.cc:1197] [/device:CPU:0] (DEBUG INFO) Executor start aborting (this does not indicate an error and you can ignore this message): INVALID_ARGUMENT: You must feed a value for placeholder tensor 'trimmer_trim_roundrobintrimmer_generate_mask_while_tile_multiples_trimmer_trim_roundrobintrimmer_generate_mask_strided_slice_0' with dtype int32\n",
      "\t [[{{node trimmer_trim_roundrobintrimmer_generate_mask_while_tile_multiples_trimmer_trim_roundrobintrimmer_generate_mask_strided_slice_0}}]]\n",
      "2023-09-17 18:21:57.869490: I tensorflow/core/common_runtime/executor.cc:1197] [/device:CPU:0] (DEBUG INFO) Executor start aborting (this does not indicate an error and you can ignore this message): INVALID_ARGUMENT: You must feed a value for placeholder tensor 'trimmer_trim_roundrobintrimmer_generate_mask_while_tile_multiples_trimmer_trim_roundrobintrimmer_generate_mask_strided_slice_0' with dtype int32\n",
      "\t [[{{node trimmer_trim_roundrobintrimmer_generate_mask_while_tile_multiples_trimmer_trim_roundrobintrimmer_generate_mask_strided_slice_0}}]]\n",
      "2023-09-17 18:21:57.905037: I tensorflow/core/common_runtime/executor.cc:1197] [/device:CPU:0] (DEBUG INFO) Executor start aborting (this does not indicate an error and you can ignore this message): INVALID_ARGUMENT: You must feed a value for placeholder tensor 'trimmer_trim_roundrobintrimmer_generate_mask_while_tile_multiples_trimmer_trim_roundrobintrimmer_generate_mask_strided_slice_0' with dtype int32\n",
      "\t [[{{node trimmer_trim_roundrobintrimmer_generate_mask_while_tile_multiples_trimmer_trim_roundrobintrimmer_generate_mask_strided_slice_0}}]]\n",
      "2023-09-17 18:21:57.905181: I tensorflow/core/common_runtime/executor.cc:1197] [/device:CPU:0] (DEBUG INFO) Executor start aborting (this does not indicate an error and you can ignore this message): INVALID_ARGUMENT: You must feed a value for placeholder tensor 'trimmer_trim_roundrobintrimmer_generate_mask_while_tile_multiples_trimmer_trim_roundrobintrimmer_generate_mask_strided_slice_0' with dtype int32\n",
      "\t [[{{node trimmer_trim_roundrobintrimmer_generate_mask_while_tile_multiples_trimmer_trim_roundrobintrimmer_generate_mask_strided_slice_0}}]]\n",
      "2023-09-17 18:21:57.905285: I tensorflow/core/common_runtime/executor.cc:1197] [/device:CPU:0] (DEBUG INFO) Executor start aborting (this does not indicate an error and you can ignore this message): INVALID_ARGUMENT: You must feed a value for placeholder tensor 'trimmer_trim_roundrobintrimmer_generate_mask_while_tile_multiples_trimmer_trim_roundrobintrimmer_generate_mask_strided_slice_0' with dtype int32\n",
      "\t [[{{node trimmer_trim_roundrobintrimmer_generate_mask_while_tile_multiples_trimmer_trim_roundrobintrimmer_generate_mask_strided_slice_0}}]]\n",
      "2023-09-17 18:21:57.923902: I tensorflow/core/common_runtime/executor.cc:1197] [/device:CPU:0] (DEBUG INFO) Executor start aborting (this does not indicate an error and you can ignore this message): INVALID_ARGUMENT: You must feed a value for placeholder tensor 'trimmer_trim_roundrobintrimmer_generate_mask_while_tile_multiples_trimmer_trim_roundrobintrimmer_generate_mask_strided_slice_0' with dtype int32\n",
      "\t [[{{node trimmer_trim_roundrobintrimmer_generate_mask_while_tile_multiples_trimmer_trim_roundrobintrimmer_generate_mask_strided_slice_0}}]]\n",
      "2023-09-17 18:21:57.924040: I tensorflow/core/common_runtime/executor.cc:1197] [/device:CPU:0] (DEBUG INFO) Executor start aborting (this does not indicate an error and you can ignore this message): INVALID_ARGUMENT: You must feed a value for placeholder tensor 'trimmer_trim_roundrobintrimmer_generate_mask_while_tile_multiples_trimmer_trim_roundrobintrimmer_generate_mask_strided_slice_0' with dtype int32\n",
      "\t [[{{node trimmer_trim_roundrobintrimmer_generate_mask_while_tile_multiples_trimmer_trim_roundrobintrimmer_generate_mask_strided_slice_0}}]]\n",
      "2023-09-17 18:21:57.924142: I tensorflow/core/common_runtime/executor.cc:1197] [/device:CPU:0] (DEBUG INFO) Executor start aborting (this does not indicate an error and you can ignore this message): INVALID_ARGUMENT: You must feed a value for placeholder tensor 'trimmer_trim_roundrobintrimmer_generate_mask_while_tile_multiples_trimmer_trim_roundrobintrimmer_generate_mask_strided_slice_0' with dtype int32\n",
      "\t [[{{node trimmer_trim_roundrobintrimmer_generate_mask_while_tile_multiples_trimmer_trim_roundrobintrimmer_generate_mask_strided_slice_0}}]]\n",
      "2023-09-17 18:21:58.284729: I tensorflow/core/common_runtime/executor.cc:1197] [/device:CPU:0] (DEBUG INFO) Executor start aborting (this does not indicate an error and you can ignore this message): INVALID_ARGUMENT: You must feed a value for placeholder tensor 'roberta_pack_inputs_trimmer_trim_roundrobintrimmer_generate_mask_while_tile_multiples_roberta_pack_inputs_trimmer_trim_roundrobintrimmer_generate_mask_strided_slice_0' with dtype int32\n",
      "\t [[{{node roberta_pack_inputs_trimmer_trim_roundrobintrimmer_generate_mask_while_tile_multiples_roberta_pack_inputs_trimmer_trim_roundrobintrimmer_generate_mask_strided_slice_0}}]]\n",
      "2023-09-17 18:21:58.284872: I tensorflow/core/common_runtime/executor.cc:1197] [/device:CPU:0] (DEBUG INFO) Executor start aborting (this does not indicate an error and you can ignore this message): INVALID_ARGUMENT: You must feed a value for placeholder tensor 'roberta_pack_inputs_trimmer_trim_roundrobintrimmer_generate_mask_while_tile_multiples_roberta_pack_inputs_trimmer_trim_roundrobintrimmer_generate_mask_strided_slice_0' with dtype int32\n",
      "\t [[{{node roberta_pack_inputs_trimmer_trim_roundrobintrimmer_generate_mask_while_tile_multiples_roberta_pack_inputs_trimmer_trim_roundrobintrimmer_generate_mask_strided_slice_0}}]]\n",
      "2023-09-17 18:21:58.284972: I tensorflow/core/common_runtime/executor.cc:1197] [/device:CPU:0] (DEBUG INFO) Executor start aborting (this does not indicate an error and you can ignore this message): INVALID_ARGUMENT: You must feed a value for placeholder tensor 'roberta_pack_inputs_trimmer_trim_roundrobintrimmer_generate_mask_while_tile_multiples_roberta_pack_inputs_trimmer_trim_roundrobintrimmer_generate_mask_strided_slice_0' with dtype int32\n",
      "\t [[{{node roberta_pack_inputs_trimmer_trim_roundrobintrimmer_generate_mask_while_tile_multiples_roberta_pack_inputs_trimmer_trim_roundrobintrimmer_generate_mask_strided_slice_0}}]]\n",
      "2023-09-17 18:21:58.312571: I tensorflow/core/common_runtime/executor.cc:1197] [/device:CPU:0] (DEBUG INFO) Executor start aborting (this does not indicate an error and you can ignore this message): INVALID_ARGUMENT: You must feed a value for placeholder tensor 'trimmer_trim_roundrobintrimmer_generate_mask_while_tile_multiples_trimmer_trim_roundrobintrimmer_generate_mask_strided_slice_0' with dtype int32\n",
      "\t [[{{node trimmer_trim_roundrobintrimmer_generate_mask_while_tile_multiples_trimmer_trim_roundrobintrimmer_generate_mask_strided_slice_0}}]]\n",
      "2023-09-17 18:21:58.312704: I tensorflow/core/common_runtime/executor.cc:1197] [/device:CPU:0] (DEBUG INFO) Executor start aborting (this does not indicate an error and you can ignore this message): INVALID_ARGUMENT: You must feed a value for placeholder tensor 'trimmer_trim_roundrobintrimmer_generate_mask_while_tile_multiples_trimmer_trim_roundrobintrimmer_generate_mask_strided_slice_0' with dtype int32\n",
      "\t [[{{node trimmer_trim_roundrobintrimmer_generate_mask_while_tile_multiples_trimmer_trim_roundrobintrimmer_generate_mask_strided_slice_0}}]]\n",
      "2023-09-17 18:21:58.312804: I tensorflow/core/common_runtime/executor.cc:1197] [/device:CPU:0] (DEBUG INFO) Executor start aborting (this does not indicate an error and you can ignore this message): INVALID_ARGUMENT: You must feed a value for placeholder tensor 'trimmer_trim_roundrobintrimmer_generate_mask_while_tile_multiples_trimmer_trim_roundrobintrimmer_generate_mask_strided_slice_0' with dtype int32\n",
      "\t [[{{node trimmer_trim_roundrobintrimmer_generate_mask_while_tile_multiples_trimmer_trim_roundrobintrimmer_generate_mask_strided_slice_0}}]]\n",
      "2023-09-17 18:21:58.359758: I tensorflow/core/common_runtime/executor.cc:1197] [/device:CPU:0] (DEBUG INFO) Executor start aborting (this does not indicate an error and you can ignore this message): INVALID_ARGUMENT: You must feed a value for placeholder tensor 'trimmer_trim_roundrobintrimmer_generate_mask_while_tile_multiples_trimmer_trim_roundrobintrimmer_generate_mask_strided_slice_0' with dtype int32\n",
      "\t [[{{node trimmer_trim_roundrobintrimmer_generate_mask_while_tile_multiples_trimmer_trim_roundrobintrimmer_generate_mask_strided_slice_0}}]]\n",
      "2023-09-17 18:21:58.359900: I tensorflow/core/common_runtime/executor.cc:1197] [/device:CPU:0] (DEBUG INFO) Executor start aborting (this does not indicate an error and you can ignore this message): INVALID_ARGUMENT: You must feed a value for placeholder tensor 'trimmer_trim_roundrobintrimmer_generate_mask_while_tile_multiples_trimmer_trim_roundrobintrimmer_generate_mask_strided_slice_0' with dtype int32\n",
      "\t [[{{node trimmer_trim_roundrobintrimmer_generate_mask_while_tile_multiples_trimmer_trim_roundrobintrimmer_generate_mask_strided_slice_0}}]]\n",
      "2023-09-17 18:21:58.360003: I tensorflow/core/common_runtime/executor.cc:1197] [/device:CPU:0] (DEBUG INFO) Executor start aborting (this does not indicate an error and you can ignore this message): INVALID_ARGUMENT: You must feed a value for placeholder tensor 'trimmer_trim_roundrobintrimmer_generate_mask_while_tile_multiples_trimmer_trim_roundrobintrimmer_generate_mask_strided_slice_0' with dtype int32\n",
      "\t [[{{node trimmer_trim_roundrobintrimmer_generate_mask_while_tile_multiples_trimmer_trim_roundrobintrimmer_generate_mask_strided_slice_0}}]]\n",
      "2023-09-17 18:21:58.507490: I tensorflow/core/common_runtime/executor.cc:1197] [/device:CPU:0] (DEBUG INFO) Executor start aborting (this does not indicate an error and you can ignore this message): INVALID_ARGUMENT: You must feed a value for placeholder tensor 'trimmer_trim_roundrobintrimmer_generate_mask_while_tile_multiples_trimmer_trim_roundrobintrimmer_generate_mask_strided_slice_0' with dtype int32\n",
      "\t [[{{node trimmer_trim_roundrobintrimmer_generate_mask_while_tile_multiples_trimmer_trim_roundrobintrimmer_generate_mask_strided_slice_0}}]]\n",
      "2023-09-17 18:21:58.507627: I tensorflow/core/common_runtime/executor.cc:1197] [/device:CPU:0] (DEBUG INFO) Executor start aborting (this does not indicate an error and you can ignore this message): INVALID_ARGUMENT: You must feed a value for placeholder tensor 'trimmer_trim_roundrobintrimmer_generate_mask_while_tile_multiples_trimmer_trim_roundrobintrimmer_generate_mask_strided_slice_0' with dtype int32\n",
      "\t [[{{node trimmer_trim_roundrobintrimmer_generate_mask_while_tile_multiples_trimmer_trim_roundrobintrimmer_generate_mask_strided_slice_0}}]]\n",
      "2023-09-17 18:21:58.507732: I tensorflow/core/common_runtime/executor.cc:1197] [/device:CPU:0] (DEBUG INFO) Executor start aborting (this does not indicate an error and you can ignore this message): INVALID_ARGUMENT: You must feed a value for placeholder tensor 'trimmer_trim_roundrobintrimmer_generate_mask_while_tile_multiples_trimmer_trim_roundrobintrimmer_generate_mask_strided_slice_0' with dtype int32\n",
      "\t [[{{node trimmer_trim_roundrobintrimmer_generate_mask_while_tile_multiples_trimmer_trim_roundrobintrimmer_generate_mask_strided_slice_0}}]]\n",
      "2023-09-17 18:21:58.529452: I tensorflow/core/common_runtime/executor.cc:1197] [/device:CPU:0] (DEBUG INFO) Executor start aborting (this does not indicate an error and you can ignore this message): INVALID_ARGUMENT: You must feed a value for placeholder tensor 'roberta_pack_inputs_trimmer_trim_roundrobintrimmer_generate_mask_while_tile_multiples_roberta_pack_inputs_trimmer_trim_roundrobintrimmer_generate_mask_strided_slice_0' with dtype int32\n",
      "\t [[{{node roberta_pack_inputs_trimmer_trim_roundrobintrimmer_generate_mask_while_tile_multiples_roberta_pack_inputs_trimmer_trim_roundrobintrimmer_generate_mask_strided_slice_0}}]]\n",
      "2023-09-17 18:21:58.529580: I tensorflow/core/common_runtime/executor.cc:1197] [/device:CPU:0] (DEBUG INFO) Executor start aborting (this does not indicate an error and you can ignore this message): INVALID_ARGUMENT: You must feed a value for placeholder tensor 'roberta_pack_inputs_trimmer_trim_roundrobintrimmer_generate_mask_while_tile_multiples_roberta_pack_inputs_trimmer_trim_roundrobintrimmer_generate_mask_strided_slice_0' with dtype int32\n",
      "\t [[{{node roberta_pack_inputs_trimmer_trim_roundrobintrimmer_generate_mask_while_tile_multiples_roberta_pack_inputs_trimmer_trim_roundrobintrimmer_generate_mask_strided_slice_0}}]]\n",
      "2023-09-17 18:21:58.529671: I tensorflow/core/common_runtime/executor.cc:1197] [/device:CPU:0] (DEBUG INFO) Executor start aborting (this does not indicate an error and you can ignore this message): INVALID_ARGUMENT: You must feed a value for placeholder tensor 'roberta_pack_inputs_trimmer_trim_roundrobintrimmer_generate_mask_while_tile_multiples_roberta_pack_inputs_trimmer_trim_roundrobintrimmer_generate_mask_strided_slice_0' with dtype int32\n",
      "\t [[{{node roberta_pack_inputs_trimmer_trim_roundrobintrimmer_generate_mask_while_tile_multiples_roberta_pack_inputs_trimmer_trim_roundrobintrimmer_generate_mask_strided_slice_0}}]]\n",
      "2023-09-17 18:21:58.539893: I tensorflow/core/common_runtime/executor.cc:1197] [/device:CPU:0] (DEBUG INFO) Executor start aborting (this does not indicate an error and you can ignore this message): INVALID_ARGUMENT: You must feed a value for placeholder tensor 'model_1_roberta_pack_inputs_trimmer_trim_roundrobintrimmer_generate_mask_while_tile_multiples_model_1_roberta_pack_inputs_trimmer_trim_roundrobintrimmer_generate_mask_strided_slice_0' with dtype int32\n",
      "\t [[{{node model_1_roberta_pack_inputs_trimmer_trim_roundrobintrimmer_generate_mask_while_tile_multiples_model_1_roberta_pack_inputs_trimmer_trim_roundrobintrimmer_generate_mask_strided_slice_0}}]]\n",
      "2023-09-17 18:21:58.540009: I tensorflow/core/common_runtime/executor.cc:1197] [/device:CPU:0] (DEBUG INFO) Executor start aborting (this does not indicate an error and you can ignore this message): INVALID_ARGUMENT: You must feed a value for placeholder tensor 'model_1_roberta_pack_inputs_trimmer_trim_roundrobintrimmer_generate_mask_while_tile_multiples_model_1_roberta_pack_inputs_trimmer_trim_roundrobintrimmer_generate_mask_strided_slice_0' with dtype int32\n",
      "\t [[{{node model_1_roberta_pack_inputs_trimmer_trim_roundrobintrimmer_generate_mask_while_tile_multiples_model_1_roberta_pack_inputs_trimmer_trim_roundrobintrimmer_generate_mask_strided_slice_0}}]]\n",
      "2023-09-17 18:21:58.540094: I tensorflow/core/common_runtime/executor.cc:1197] [/device:CPU:0] (DEBUG INFO) Executor start aborting (this does not indicate an error and you can ignore this message): INVALID_ARGUMENT: You must feed a value for placeholder tensor 'model_1_roberta_pack_inputs_trimmer_trim_roundrobintrimmer_generate_mask_while_tile_multiples_model_1_roberta_pack_inputs_trimmer_trim_roundrobintrimmer_generate_mask_strided_slice_0' with dtype int32\n",
      "\t [[{{node model_1_roberta_pack_inputs_trimmer_trim_roundrobintrimmer_generate_mask_while_tile_multiples_model_1_roberta_pack_inputs_trimmer_trim_roundrobintrimmer_generate_mask_strided_slice_0}}]]\n",
      "2023-09-17 18:21:58.626962: I tensorflow/core/common_runtime/executor.cc:1197] [/device:CPU:0] (DEBUG INFO) Executor start aborting (this does not indicate an error and you can ignore this message): INVALID_ARGUMENT: You must feed a value for placeholder tensor 'seq_length' with dtype int32\n",
      "\t [[{{node seq_length}}]]\n",
      "2023-09-17 18:21:58.627227: I tensorflow/core/common_runtime/executor.cc:1197] [/device:CPU:0] (DEBUG INFO) Executor start aborting (this does not indicate an error and you can ignore this message): INVALID_ARGUMENT: You must feed a value for placeholder tensor 'seq_length' with dtype int32\n",
      "\t [[{{node seq_length}}]]\n",
      "2023-09-17 18:21:58.627346: I tensorflow/core/common_runtime/executor.cc:1197] [/device:CPU:0] (DEBUG INFO) Executor start aborting (this does not indicate an error and you can ignore this message): INVALID_ARGUMENT: You must feed a value for placeholder tensor 'seq_length' with dtype int32\n",
      "\t [[{{node seq_length}}]]\n",
      "2023-09-17 18:21:58.627709: I tensorflow/core/common_runtime/executor.cc:1197] [/device:CPU:0] (DEBUG INFO) Executor start aborting (this does not indicate an error and you can ignore this message): INVALID_ARGUMENT: You must feed a value for placeholder tensor 'seq_length' with dtype int32\n",
      "\t [[{{node seq_length}}]]\n",
      "2023-09-17 18:21:58.627874: I tensorflow/core/common_runtime/executor.cc:1197] [/device:CPU:0] (DEBUG INFO) Executor start aborting (this does not indicate an error and you can ignore this message): INVALID_ARGUMENT: You must feed a value for placeholder tensor 'seq_length' with dtype int32\n",
      "\t [[{{node seq_length}}]]\n",
      "2023-09-17 18:21:58.627947: I tensorflow/core/common_runtime/executor.cc:1197] [/device:CPU:0] (DEBUG INFO) Executor start aborting (this does not indicate an error and you can ignore this message): INVALID_ARGUMENT: You must feed a value for placeholder tensor 'seq_length' with dtype int32\n",
      "\t [[{{node seq_length}}]]\n",
      "2023-09-17 18:21:58.628015: I tensorflow/core/common_runtime/executor.cc:1197] [/device:CPU:0] (DEBUG INFO) Executor start aborting (this does not indicate an error and you can ignore this message): INVALID_ARGUMENT: You must feed a value for placeholder tensor 'seq_length' with dtype int32\n",
      "\t [[{{node seq_length}}]]\n",
      "2023-09-17 18:21:58.943977: I tensorflow/core/common_runtime/executor.cc:1197] [/device:CPU:0] (DEBUG INFO) Executor start aborting (this does not indicate an error and you can ignore this message): INVALID_ARGUMENT: You must feed a value for placeholder tensor 'seq_length' with dtype int32\n",
      "\t [[{{node seq_length}}]]\n",
      "2023-09-17 18:21:58.944245: I tensorflow/core/common_runtime/executor.cc:1197] [/device:CPU:0] (DEBUG INFO) Executor start aborting (this does not indicate an error and you can ignore this message): INVALID_ARGUMENT: You must feed a value for placeholder tensor 'seq_length' with dtype int32\n",
      "\t [[{{node seq_length}}]]\n",
      "2023-09-17 18:21:58.944363: I tensorflow/core/common_runtime/executor.cc:1197] [/device:CPU:0] (DEBUG INFO) Executor start aborting (this does not indicate an error and you can ignore this message): INVALID_ARGUMENT: You must feed a value for placeholder tensor 'seq_length' with dtype int32\n",
      "\t [[{{node seq_length}}]]\n",
      "2023-09-17 18:21:58.944708: I tensorflow/core/common_runtime/executor.cc:1197] [/device:CPU:0] (DEBUG INFO) Executor start aborting (this does not indicate an error and you can ignore this message): INVALID_ARGUMENT: You must feed a value for placeholder tensor 'seq_length' with dtype int32\n",
      "\t [[{{node seq_length}}]]\n",
      "2023-09-17 18:21:58.944865: I tensorflow/core/common_runtime/executor.cc:1197] [/device:CPU:0] (DEBUG INFO) Executor start aborting (this does not indicate an error and you can ignore this message): INVALID_ARGUMENT: You must feed a value for placeholder tensor 'seq_length' with dtype int32\n",
      "\t [[{{node seq_length}}]]\n",
      "2023-09-17 18:21:58.944945: I tensorflow/core/common_runtime/executor.cc:1197] [/device:CPU:0] (DEBUG INFO) Executor start aborting (this does not indicate an error and you can ignore this message): INVALID_ARGUMENT: You must feed a value for placeholder tensor 'seq_length' with dtype int32\n",
      "\t [[{{node seq_length}}]]\n",
      "2023-09-17 18:21:58.945017: I tensorflow/core/common_runtime/executor.cc:1197] [/device:CPU:0] (DEBUG INFO) Executor start aborting (this does not indicate an error and you can ignore this message): INVALID_ARGUMENT: You must feed a value for placeholder tensor 'seq_length' with dtype int32\n",
      "\t [[{{node seq_length}}]]\n",
      "2023-09-17 18:21:59.306013: I tensorflow/core/common_runtime/executor.cc:1197] [/device:CPU:0] (DEBUG INFO) Executor start aborting (this does not indicate an error and you can ignore this message): INVALID_ARGUMENT: You must feed a value for placeholder tensor 'seq_length' with dtype int32\n",
      "\t [[{{node seq_length}}]]\n",
      "2023-09-17 18:21:59.306251: I tensorflow/core/common_runtime/executor.cc:1197] [/device:CPU:0] (DEBUG INFO) Executor start aborting (this does not indicate an error and you can ignore this message): INVALID_ARGUMENT: You must feed a value for placeholder tensor 'seq_length' with dtype int32\n",
      "\t [[{{node seq_length}}]]\n",
      "2023-09-17 18:21:59.306345: I tensorflow/core/common_runtime/executor.cc:1197] [/device:CPU:0] (DEBUG INFO) Executor start aborting (this does not indicate an error and you can ignore this message): INVALID_ARGUMENT: You must feed a value for placeholder tensor 'seq_length' with dtype int32\n",
      "\t [[{{node seq_length}}]]\n",
      "2023-09-17 18:21:59.306725: I tensorflow/core/common_runtime/executor.cc:1197] [/device:CPU:0] (DEBUG INFO) Executor start aborting (this does not indicate an error and you can ignore this message): INVALID_ARGUMENT: You must feed a value for placeholder tensor 'seq_length' with dtype int32\n",
      "\t [[{{node seq_length}}]]\n",
      "2023-09-17 18:21:59.306850: I tensorflow/core/common_runtime/executor.cc:1197] [/device:CPU:0] (DEBUG INFO) Executor start aborting (this does not indicate an error and you can ignore this message): INVALID_ARGUMENT: You must feed a value for placeholder tensor 'seq_length' with dtype int32\n",
      "\t [[{{node seq_length}}]]\n",
      "2023-09-17 18:21:59.306910: I tensorflow/core/common_runtime/executor.cc:1197] [/device:CPU:0] (DEBUG INFO) Executor start aborting (this does not indicate an error and you can ignore this message): INVALID_ARGUMENT: You must feed a value for placeholder tensor 'seq_length' with dtype int32\n",
      "\t [[{{node seq_length}}]]\n",
      "2023-09-17 18:21:59.306965: I tensorflow/core/common_runtime/executor.cc:1197] [/device:CPU:0] (DEBUG INFO) Executor start aborting (this does not indicate an error and you can ignore this message): INVALID_ARGUMENT: You must feed a value for placeholder tensor 'seq_length' with dtype int32\n",
      "\t [[{{node seq_length}}]]\n",
      "2023-09-17 18:22:00.012220: I tensorflow/core/common_runtime/executor.cc:1197] [/device:CPU:0] (DEBUG INFO) Executor start aborting (this does not indicate an error and you can ignore this message): INVALID_ARGUMENT: You must feed a value for placeholder tensor 'seq_length' with dtype int32\n",
      "\t [[{{node seq_length}}]]\n",
      "2023-09-17 18:22:00.012465: I tensorflow/core/common_runtime/executor.cc:1197] [/device:CPU:0] (DEBUG INFO) Executor start aborting (this does not indicate an error and you can ignore this message): INVALID_ARGUMENT: You must feed a value for placeholder tensor 'seq_length' with dtype int32\n",
      "\t [[{{node seq_length}}]]\n",
      "2023-09-17 18:22:00.012558: I tensorflow/core/common_runtime/executor.cc:1197] [/device:CPU:0] (DEBUG INFO) Executor start aborting (this does not indicate an error and you can ignore this message): INVALID_ARGUMENT: You must feed a value for placeholder tensor 'seq_length' with dtype int32\n",
      "\t [[{{node seq_length}}]]\n",
      "2023-09-17 18:22:00.012929: I tensorflow/core/common_runtime/executor.cc:1197] [/device:CPU:0] (DEBUG INFO) Executor start aborting (this does not indicate an error and you can ignore this message): INVALID_ARGUMENT: You must feed a value for placeholder tensor 'seq_length' with dtype int32\n",
      "\t [[{{node seq_length}}]]\n",
      "2023-09-17 18:22:00.013052: I tensorflow/core/common_runtime/executor.cc:1197] [/device:CPU:0] (DEBUG INFO) Executor start aborting (this does not indicate an error and you can ignore this message): INVALID_ARGUMENT: You must feed a value for placeholder tensor 'seq_length' with dtype int32\n",
      "\t [[{{node seq_length}}]]\n",
      "2023-09-17 18:22:00.013114: I tensorflow/core/common_runtime/executor.cc:1197] [/device:CPU:0] (DEBUG INFO) Executor start aborting (this does not indicate an error and you can ignore this message): INVALID_ARGUMENT: You must feed a value for placeholder tensor 'seq_length' with dtype int32\n",
      "\t [[{{node seq_length}}]]\n",
      "2023-09-17 18:22:00.013173: I tensorflow/core/common_runtime/executor.cc:1197] [/device:CPU:0] (DEBUG INFO) Executor start aborting (this does not indicate an error and you can ignore this message): INVALID_ARGUMENT: You must feed a value for placeholder tensor 'seq_length' with dtype int32\n",
      "\t [[{{node seq_length}}]]\n"
     ]
    }
   ],
   "source": [
    "# Loading the RoBERTa model from the Tensorflow Hub\n",
    "bert_preprocess = hub.load(\"https://tfhub.dev/jeongukjae/xlm_roberta_multi_cased_preprocess/1\")\n",
    "bert_embedding = hub.load(\"https://tfhub.dev/jeongukjae/xlm_roberta_multi_cased_L-12_H-768_A-12/1\")"
   ]
  },
  {
   "cell_type": "code",
   "execution_count": 8,
   "id": "9b8261f1-323a-42b6-875e-c16d2137ee36",
   "metadata": {
    "tags": []
   },
   "outputs": [],
   "source": [
    "# Defining the first layer of the model\n",
    "french_preprocessor = hub.KerasLayer(bert_preprocess,\n",
    "                                    trainable=False)\n",
    "french_vectorizer = hub.KerasLayer(bert_embedding,\n",
    "                                  input_shape=[],\n",
    "                                 dtype=tf.string,\n",
    "                                 trainable=False)"
   ]
  },
  {
   "cell_type": "markdown",
   "id": "0aca07a1-0aa9-4589-990a-258224ada1b2",
   "metadata": {
    "jp-MarkdownHeadingCollapsed": true,
    "tags": []
   },
   "source": [
    "## Model architecture"
   ]
  },
  {
   "cell_type": "code",
   "execution_count": 9,
   "id": "f16889a7-2481-4292-95f5-b9b13d5b7f33",
   "metadata": {
    "tags": []
   },
   "outputs": [
    {
     "name": "stderr",
     "output_type": "stream",
     "text": [
      "2023-09-17 18:22:52.981526: I tensorflow/core/common_runtime/executor.cc:1197] [/device:CPU:0] (DEBUG INFO) Executor start aborting (this does not indicate an error and you can ignore this message): INVALID_ARGUMENT: You must feed a value for placeholder tensor 'inputs' with dtype string and shape [?]\n",
      "\t [[{{node inputs}}]]\n",
      "2023-09-17 18:22:53.014282: I tensorflow/core/common_runtime/executor.cc:1197] [/device:CPU:0] (DEBUG INFO) Executor start aborting (this does not indicate an error and you can ignore this message): INVALID_ARGUMENT: You must feed a value for placeholder tensor 'Placeholder' with dtype string and shape [?]\n",
      "\t [[{{node Placeholder}}]]\n",
      "2023-09-17 18:22:53.123233: I tensorflow/core/common_runtime/executor.cc:1197] [/device:CPU:0] (DEBUG INFO) Executor start aborting (this does not indicate an error and you can ignore this message): INVALID_ARGUMENT: You must feed a value for placeholder tensor 'inputs_1' with dtype int32 and shape [?,128]\n",
      "\t [[{{node inputs_1}}]]\n",
      "2023-09-17 18:22:53.123326: I tensorflow/core/common_runtime/executor.cc:1197] [/device:CPU:0] (DEBUG INFO) Executor start aborting (this does not indicate an error and you can ignore this message): INVALID_ARGUMENT: You must feed a value for placeholder tensor 'inputs_2' with dtype int32 and shape [?,128]\n",
      "\t [[{{node inputs_2}}]]\n"
     ]
    },
    {
     "name": "stdout",
     "output_type": "stream",
     "text": [
      "Model: \"model\"\n",
      "__________________________________________________________________________________________________\n",
      " Layer (type)                   Output Shape         Param #     Connected to                     \n",
      "==================================================================================================\n",
      " input_1 (InputLayer)           [(None,)]            0           []                               \n",
      "                                                                                                  \n",
      " keras_layer (KerasLayer)       {'input_mask': (Non  0           ['input_1[0][0]']                \n",
      "                                e, 128),                                                          \n",
      "                                 'input_type_ids':                                                \n",
      "                                (None, 128),                                                      \n",
      "                                 'input_word_ids':                                                \n",
      "                                (None, 128)}                                                      \n",
      "                                                                                                  \n",
      " keras_layer_1 (KerasLayer)     {'pooled_output': (  278042112   ['keras_layer[0][0]',            \n",
      "                                None, 768),                       'keras_layer[0][1]',            \n",
      "                                 'encoder_outputs':               'keras_layer[0][2]']            \n",
      "                                 [(None, 128, 768),                                               \n",
      "                                 (None, 128, 768),                                                \n",
      "                                 (None, 128, 768),                                                \n",
      "                                 (None, 128, 768),                                                \n",
      "                                 (None, 128, 768),                                                \n",
      "                                 (None, 128, 768),                                                \n",
      "                                 (None, 128, 768),                                                \n",
      "                                 (None, 128, 768),                                                \n",
      "                                 (None, 128, 768),                                                \n",
      "                                 (None, 128, 768),                                                \n",
      "                                 (None, 128, 768),                                                \n",
      "                                 (None, 128, 768)],                                               \n",
      "                                 'sequence_output':                                               \n",
      "                                 (None, 128, 768)}                                                \n",
      "                                                                                                  \n",
      " conv1d (Conv1D)                (None, 125, 64)      196672      ['keras_layer_1[0][13]']         \n",
      "                                                                                                  \n",
      " global_max_pooling1d (GlobalMa  (None, 64)          0           ['conv1d[0][0]']                 \n",
      " xPooling1D)                                                                                      \n",
      "                                                                                                  \n",
      " flatten (Flatten)              (None, 64)           0           ['global_max_pooling1d[0][0]']   \n",
      "                                                                                                  \n",
      " batch_normalization (BatchNorm  (None, 64)          256         ['flatten[0][0]']                \n",
      " alization)                                                                                       \n",
      "                                                                                                  \n",
      " dense (Dense)                  (None, 64)           4160        ['batch_normalization[0][0]']    \n",
      "                                                                                                  \n",
      " dense_1 (Dense)                (None, 1)            65          ['dense[0][0]']                  \n",
      "                                                                                                  \n",
      "==================================================================================================\n",
      "Total params: 278,243,265\n",
      "Trainable params: 201,025\n",
      "Non-trainable params: 278,042,240\n",
      "__________________________________________________________________________________________________\n",
      "None\n"
     ]
    },
    {
     "name": "stderr",
     "output_type": "stream",
     "text": [
      "2023-09-17 18:22:53.195671: I tensorflow/core/common_runtime/executor.cc:1197] [/device:CPU:0] (DEBUG INFO) Executor start aborting (this does not indicate an error and you can ignore this message): INVALID_ARGUMENT: You must feed a value for placeholder tensor 'Placeholder_1' with dtype int32 and shape [?,128]\n",
      "\t [[{{node Placeholder_1}}]]\n",
      "2023-09-17 18:22:53.195763: I tensorflow/core/common_runtime/executor.cc:1197] [/device:CPU:0] (DEBUG INFO) Executor start aborting (this does not indicate an error and you can ignore this message): INVALID_ARGUMENT: You must feed a value for placeholder tensor 'Placeholder_2' with dtype int32 and shape [?,128]\n",
      "\t [[{{node Placeholder_2}}]]\n"
     ]
    }
   ],
   "source": [
    "# Model architecture : first layer non modified\n",
    "\n",
    "input1 = Input(shape=[], dtype='string')\n",
    "preprocessor_layer = french_preprocessor(input1)\n",
    "vectorizer_layer = french_vectorizer(preprocessor_layer)\n",
    "bert_layer = vectorizer_layer['sequence_output']\n",
    "conv1 = Conv1D(filters=64, kernel_size=4, activation='relu')(bert_layer)\n",
    "pool1 = GlobalMaxPooling1D()(conv1)\n",
    "flat = Flatten()(pool1)\n",
    "norm = BatchNormalization()(flat)\n",
    "dense1 = Dense(64, activation='relu', kernel_initializer='RandomNormal')(norm)\n",
    "dense2 = Dense(1, activation='relu', kernel_initializer='RandomNormal')(dense1)\n",
    "french_model = Model(inputs=input1, outputs=dense2)\n",
    "\n",
    "print(french_model.summary())"
   ]
  },
  {
   "cell_type": "markdown",
   "id": "3b1182fe-e81f-48b5-af56-4b58e5d0a4a7",
   "metadata": {
    "tags": []
   },
   "source": [
    "## Training the model"
   ]
  },
  {
   "cell_type": "code",
   "execution_count": null,
   "id": "77b33462",
   "metadata": {},
   "outputs": [],
   "source": [
    "from sklearn.model_selection import train_test_split"
   ]
  },
  {
   "cell_type": "code",
   "execution_count": 76,
   "id": "7e245b15-72bd-4e36-9eab-eb3ab372c246",
   "metadata": {
    "tags": []
   },
   "outputs": [],
   "source": [
    "# For Pole Emploi data\n",
    "dataset = df[['kc_offre','specificites', 'salmin_etp']] #specifites (skills) or dc_descriptifoffre (job description)\n",
    "dataset['salmin_etp'] = np.log(dataset['salmin_etp'])\n",
    "\n",
    "# For Jocas data\n",
    "dataset = df[['id_jocas','description_full','salary_min']]\n",
    "dataset['salary_min'] = np.log(dataset['salary_min'])"
   ]
  },
  {
   "cell_type": "code",
   "execution_count": 77,
   "id": "8bfda43c-24ce-4478-9c1c-45dca6e142f3",
   "metadata": {
    "tags": []
   },
   "outputs": [],
   "source": [
    "# Create the X train and test samples\n",
    "test_size=0.2\n",
    "X = dataset['specificites']\n",
    "\n",
    "x_train, x_test = train_test_split(X, test_size=test_size, random_state=0)"
   ]
  },
  {
   "cell_type": "code",
   "execution_count": 78,
   "id": "373084ac-c3e2-4cb8-9623-42c806abbd23",
   "metadata": {
    "tags": []
   },
   "outputs": [],
   "source": [
    "# Create the y trian and test\n",
    "test_size=0.2\n",
    "y = dataset['salmin_etp']\n",
    "\n",
    "y_train, y_test = train_test_split(y, test_size=test_size, random_state=0)"
   ]
  },
  {
   "cell_type": "code",
   "execution_count": 79,
   "id": "b339f58f-ecf8-4744-b7cf-f0818faef357",
   "metadata": {
    "scrolled": false,
    "tags": []
   },
   "outputs": [
    {
     "name": "stdout",
     "output_type": "stream",
     "text": [
      "Epoch 1/4\n"
     ]
    },
    {
     "name": "stderr",
     "output_type": "stream",
     "text": [
      "2023-07-13 14:13:08.056330: W tensorflow/core/grappler/optimizers/loop_optimizer.cc:907] Skipping loop optimization for Merge node with control input: model/keras_layer/StatefulPartitionedCall/StatefulPartitionedCall/StatefulPartitionedCall/roberta_pack_inputs/StatefulPartitionedCall/Trimmer/Trim/RoundRobinTrimmer/generate_mask/RaggedConcat/assert_equal_1/Assert/AssertGuard/branch_executed/_8591\n"
     ]
    },
    {
     "name": "stdout",
     "output_type": "stream",
     "text": [
      "5000/5000 [==============================] - ETA: 0s - loss: 0.0254 - root_mean_squared_error: 0.1595"
     ]
    },
    {
     "name": "stderr",
     "output_type": "stream",
     "text": [
      "2023-07-13 15:58:30.715364: W tensorflow/core/grappler/optimizers/loop_optimizer.cc:907] Skipping loop optimization for Merge node with control input: model/keras_layer/StatefulPartitionedCall/StatefulPartitionedCall/StatefulPartitionedCall/roberta_pack_inputs/StatefulPartitionedCall/Trimmer/Trim/RoundRobinTrimmer/generate_mask/RaggedConcat/assert_equal_1/Assert/AssertGuard/branch_executed/_1055\n",
      "2023-07-13 16:23:53.679033: I tensorflow/core/common_runtime/executor.cc:1197] [/device:CPU:0] (DEBUG INFO) Executor start aborting (this does not indicate an error and you can ignore this message): INVALID_ARGUMENT: You must feed a value for placeholder tensor 'input_2' with dtype string and shape [?]\n",
      "\t [[{{node input_2}}]]\n",
      "2023-07-13 16:23:53.919383: I tensorflow/core/common_runtime/executor.cc:1197] [/device:CPU:0] (DEBUG INFO) Executor start aborting (this does not indicate an error and you can ignore this message): INVALID_ARGUMENT: You must feed a value for placeholder tensor 'inputs' with dtype string and shape [?]\n",
      "\t [[{{node inputs}}]]\n",
      "2023-07-13 16:23:53.945673: I tensorflow/core/common_runtime/executor.cc:1197] [/device:CPU:0] (DEBUG INFO) Executor start aborting (this does not indicate an error and you can ignore this message): INVALID_ARGUMENT: You must feed a value for placeholder tensor 'input_2' with dtype string and shape [?]\n",
      "\t [[{{node input_2}}]]\n",
      "2023-07-13 16:23:54.002681: I tensorflow/core/common_runtime/executor.cc:1197] [/device:CPU:0] (DEBUG INFO) Executor start aborting (this does not indicate an error and you can ignore this message): INVALID_ARGUMENT: You must feed a value for placeholder tensor 'inputs' with dtype int32 and shape [?,128]\n",
      "\t [[{{node inputs}}]]\n",
      "2023-07-13 16:23:54.002748: I tensorflow/core/common_runtime/executor.cc:1197] [/device:CPU:0] (DEBUG INFO) Executor start aborting (this does not indicate an error and you can ignore this message): INVALID_ARGUMENT: You must feed a value for placeholder tensor 'inputs_2' with dtype int32 and shape [?,128]\n",
      "\t [[{{node inputs_2}}]]\n",
      "2023-07-13 16:23:54.143857: I tensorflow/core/common_runtime/executor.cc:1197] [/device:CPU:0] (DEBUG INFO) Executor start aborting (this does not indicate an error and you can ignore this message): INVALID_ARGUMENT: You must feed a value for placeholder tensor 'inputs' with dtype string and shape [?]\n",
      "\t [[{{node inputs}}]]\n",
      "2023-07-13 16:23:54.170578: I tensorflow/core/common_runtime/executor.cc:1197] [/device:CPU:0] (DEBUG INFO) Executor start aborting (this does not indicate an error and you can ignore this message): INVALID_ARGUMENT: You must feed a value for placeholder tensor 'input_2' with dtype string and shape [?]\n",
      "\t [[{{node input_2}}]]\n",
      "2023-07-13 16:23:54.225804: I tensorflow/core/common_runtime/executor.cc:1197] [/device:CPU:0] (DEBUG INFO) Executor start aborting (this does not indicate an error and you can ignore this message): INVALID_ARGUMENT: You must feed a value for placeholder tensor 'inputs' with dtype int32 and shape [?,128]\n",
      "\t [[{{node inputs}}]]\n",
      "2023-07-13 16:23:54.225871: I tensorflow/core/common_runtime/executor.cc:1197] [/device:CPU:0] (DEBUG INFO) Executor start aborting (this does not indicate an error and you can ignore this message): INVALID_ARGUMENT: You must feed a value for placeholder tensor 'inputs_2' with dtype int32 and shape [?,128]\n",
      "\t [[{{node inputs_2}}]]\n",
      "2023-07-13 16:23:54.350368: I tensorflow/core/common_runtime/executor.cc:1197] [/device:CPU:0] (DEBUG INFO) Executor start aborting (this does not indicate an error and you can ignore this message): INVALID_ARGUMENT: You must feed a value for placeholder tensor 'inputs' with dtype string and shape [?]\n",
      "\t [[{{node inputs}}]]\n",
      "2023-07-13 16:23:54.501702: I tensorflow/core/common_runtime/executor.cc:1197] [/device:CPU:0] (DEBUG INFO) Executor start aborting (this does not indicate an error and you can ignore this message): INVALID_ARGUMENT: You must feed a value for placeholder tensor 'input_2' with dtype string and shape [?]\n",
      "\t [[{{node input_2}}]]\n",
      "2023-07-13 16:23:54.537163: I tensorflow/core/common_runtime/executor.cc:1197] [/device:CPU:0] (DEBUG INFO) Executor start aborting (this does not indicate an error and you can ignore this message): INVALID_ARGUMENT: You must feed a value for placeholder tensor 'inputs' with dtype string and shape [?]\n",
      "\t [[{{node inputs}}]]\n",
      "2023-07-13 16:23:54.690486: I tensorflow/core/common_runtime/executor.cc:1197] [/device:CPU:0] (DEBUG INFO) Executor start aborting (this does not indicate an error and you can ignore this message): INVALID_ARGUMENT: You must feed a value for placeholder tensor 'input_2' with dtype string and shape [?]\n",
      "\t [[{{node input_2}}]]\n",
      "2023-07-13 16:23:54.725012: I tensorflow/core/common_runtime/executor.cc:1197] [/device:CPU:0] (DEBUG INFO) Executor start aborting (this does not indicate an error and you can ignore this message): INVALID_ARGUMENT: You must feed a value for placeholder tensor 'inputs' with dtype string and shape [?]\n",
      "\t [[{{node inputs}}]]\n",
      "2023-07-13 16:23:54.751133: I tensorflow/core/common_runtime/executor.cc:1197] [/device:CPU:0] (DEBUG INFO) Executor start aborting (this does not indicate an error and you can ignore this message): INVALID_ARGUMENT: You must feed a value for placeholder tensor 'inputs' with dtype string and shape [?]\n",
      "\t [[{{node inputs}}]]\n",
      "2023-07-13 16:23:54.807145: I tensorflow/core/common_runtime/executor.cc:1197] [/device:CPU:0] (DEBUG INFO) Executor start aborting (this does not indicate an error and you can ignore this message): INVALID_ARGUMENT: You must feed a value for placeholder tensor 'inputs' with dtype int32 and shape [?,128]\n",
      "\t [[{{node inputs}}]]\n",
      "2023-07-13 16:23:54.807217: I tensorflow/core/common_runtime/executor.cc:1197] [/device:CPU:0] (DEBUG INFO) Executor start aborting (this does not indicate an error and you can ignore this message): INVALID_ARGUMENT: You must feed a value for placeholder tensor 'inputs_2' with dtype int32 and shape [?,128]\n",
      "\t [[{{node inputs_2}}]]\n",
      "2023-07-13 16:23:54.873401: I tensorflow/core/common_runtime/executor.cc:1197] [/device:CPU:0] (DEBUG INFO) Executor start aborting (this does not indicate an error and you can ignore this message): INVALID_ARGUMENT: You must feed a value for placeholder tensor 'inputs' with dtype int32 and shape [?,128]\n",
      "\t [[{{node inputs}}]]\n",
      "2023-07-13 16:23:54.873467: I tensorflow/core/common_runtime/executor.cc:1197] [/device:CPU:0] (DEBUG INFO) Executor start aborting (this does not indicate an error and you can ignore this message): INVALID_ARGUMENT: You must feed a value for placeholder tensor 'inputs_2' with dtype int32 and shape [?,128]\n",
      "\t [[{{node inputs_2}}]]\n",
      "2023-07-13 16:23:54.982285: I tensorflow/core/common_runtime/executor.cc:1197] [/device:CPU:0] (DEBUG INFO) Executor start aborting (this does not indicate an error and you can ignore this message): INVALID_ARGUMENT: You must feed a value for placeholder tensor 'inputs' with dtype string and shape [?]\n",
      "\t [[{{node inputs}}]]\n",
      "2023-07-13 16:23:55.071646: I tensorflow/core/common_runtime/executor.cc:1197] [/device:CPU:0] (DEBUG INFO) Executor start aborting (this does not indicate an error and you can ignore this message): INVALID_ARGUMENT: You must feed a value for placeholder tensor 'inputs' with dtype string and shape [?]\n",
      "\t [[{{node inputs}}]]\n",
      "2023-07-13 16:23:55.175959: I tensorflow/core/common_runtime/executor.cc:1197] [/device:CPU:0] (DEBUG INFO) Executor start aborting (this does not indicate an error and you can ignore this message): INVALID_ARGUMENT: You must feed a value for placeholder tensor 'input_2' with dtype string and shape [?]\n",
      "\t [[{{node input_2}}]]\n",
      "2023-07-13 16:23:55.274975: I tensorflow/core/common_runtime/executor.cc:1197] [/device:CPU:0] (DEBUG INFO) Executor start aborting (this does not indicate an error and you can ignore this message): INVALID_ARGUMENT: You must feed a value for placeholder tensor 'inputs' with dtype string and shape [?]\n",
      "\t [[{{node inputs}}]]\n",
      "2023-07-13 16:23:55.364338: I tensorflow/core/common_runtime/executor.cc:1197] [/device:CPU:0] (DEBUG INFO) Executor start aborting (this does not indicate an error and you can ignore this message): INVALID_ARGUMENT: You must feed a value for placeholder tensor 'inputs' with dtype string and shape [?]\n",
      "\t [[{{node inputs}}]]\n",
      "2023-07-13 16:23:55.399902: I tensorflow/core/common_runtime/executor.cc:1197] [/device:CPU:0] (DEBUG INFO) Executor start aborting (this does not indicate an error and you can ignore this message): INVALID_ARGUMENT: You must feed a value for placeholder tensor 'inputs' with dtype string and shape [?]\n",
      "\t [[{{node inputs}}]]\n",
      "2023-07-13 16:23:55.520846: I tensorflow/core/common_runtime/executor.cc:1197] [/device:CPU:0] (DEBUG INFO) Executor start aborting (this does not indicate an error and you can ignore this message): INVALID_ARGUMENT: You must feed a value for placeholder tensor 'inputs' with dtype string and shape [?]\n",
      "\t [[{{node inputs}}]]\n",
      "2023-07-13 16:23:55.640070: I tensorflow/core/common_runtime/executor.cc:1197] [/device:CPU:0] (DEBUG INFO) Executor start aborting (this does not indicate an error and you can ignore this message): INVALID_ARGUMENT: You must feed a value for placeholder tensor 'inputs' with dtype string and shape [?]\n",
      "\t [[{{node inputs}}]]\n",
      "2023-07-13 16:23:55.665636: I tensorflow/core/common_runtime/executor.cc:1197] [/device:CPU:0] (DEBUG INFO) Executor start aborting (this does not indicate an error and you can ignore this message): INVALID_ARGUMENT: You must feed a value for placeholder tensor 'inputs' with dtype string and shape [?]\n",
      "\t [[{{node inputs}}]]\n",
      "2023-07-13 16:23:55.691238: I tensorflow/core/common_runtime/executor.cc:1197] [/device:CPU:0] (DEBUG INFO) Executor start aborting (this does not indicate an error and you can ignore this message): INVALID_ARGUMENT: You must feed a value for placeholder tensor 'inputs' with dtype string and shape [?]\n",
      "\t [[{{node inputs}}]]\n",
      "2023-07-13 16:23:55.716771: I tensorflow/core/common_runtime/executor.cc:1197] [/device:CPU:0] (DEBUG INFO) Executor start aborting (this does not indicate an error and you can ignore this message): INVALID_ARGUMENT: You must feed a value for placeholder tensor 'inputs' with dtype string and shape [?]\n",
      "\t [[{{node inputs}}]]\n",
      "2023-07-13 16:23:55.775395: I tensorflow/core/common_runtime/executor.cc:1197] [/device:CPU:0] (DEBUG INFO) Executor start aborting (this does not indicate an error and you can ignore this message): INVALID_ARGUMENT: You must feed a value for placeholder tensor 'inputs_input_type_ids' with dtype int32 and shape [?,128]\n",
      "\t [[{{node inputs_input_type_ids}}]]\n",
      "2023-07-13 16:23:55.775462: I tensorflow/core/common_runtime/executor.cc:1197] [/device:CPU:0] (DEBUG INFO) Executor start aborting (this does not indicate an error and you can ignore this message): INVALID_ARGUMENT: You must feed a value for placeholder tensor 'inputs_input_word_ids' with dtype int32 and shape [?,128]\n",
      "\t [[{{node inputs_input_word_ids}}]]\n",
      "2023-07-13 16:23:55.841787: I tensorflow/core/common_runtime/executor.cc:1197] [/device:CPU:0] (DEBUG INFO) Executor start aborting (this does not indicate an error and you can ignore this message): INVALID_ARGUMENT: You must feed a value for placeholder tensor 'inputs_input_type_ids' with dtype int32 and shape [?,128]\n",
      "\t [[{{node inputs_input_type_ids}}]]\n",
      "2023-07-13 16:23:55.841857: I tensorflow/core/common_runtime/executor.cc:1197] [/device:CPU:0] (DEBUG INFO) Executor start aborting (this does not indicate an error and you can ignore this message): INVALID_ARGUMENT: You must feed a value for placeholder tensor 'inputs_input_word_ids' with dtype int32 and shape [?,128]\n",
      "\t [[{{node inputs_input_word_ids}}]]\n",
      "2023-07-13 16:23:55.906864: I tensorflow/core/common_runtime/executor.cc:1197] [/device:CPU:0] (DEBUG INFO) Executor start aborting (this does not indicate an error and you can ignore this message): INVALID_ARGUMENT: You must feed a value for placeholder tensor 'inputs_input_type_ids' with dtype int32 and shape [?,128]\n",
      "\t [[{{node inputs_input_type_ids}}]]\n",
      "2023-07-13 16:23:55.906935: I tensorflow/core/common_runtime/executor.cc:1197] [/device:CPU:0] (DEBUG INFO) Executor start aborting (this does not indicate an error and you can ignore this message): INVALID_ARGUMENT: You must feed a value for placeholder tensor 'inputs_input_word_ids' with dtype int32 and shape [?,128]\n",
      "\t [[{{node inputs_input_word_ids}}]]\n",
      "2023-07-13 16:23:55.972505: I tensorflow/core/common_runtime/executor.cc:1197] [/device:CPU:0] (DEBUG INFO) Executor start aborting (this does not indicate an error and you can ignore this message): INVALID_ARGUMENT: You must feed a value for placeholder tensor 'inputs_input_type_ids' with dtype int32 and shape [?,128]\n",
      "\t [[{{node inputs_input_type_ids}}]]\n",
      "2023-07-13 16:23:55.972568: I tensorflow/core/common_runtime/executor.cc:1197] [/device:CPU:0] (DEBUG INFO) Executor start aborting (this does not indicate an error and you can ignore this message): INVALID_ARGUMENT: You must feed a value for placeholder tensor 'inputs_input_word_ids' with dtype int32 and shape [?,128]\n",
      "\t [[{{node inputs_input_word_ids}}]]\n",
      "WARNING:absl:Found untraced functions such as _jit_compiled_convolution_op, _update_step_xla, restored_function_body, restored_function_body, restored_function_body while saving (showing 5 of 362). These functions will not be directly callable after loading.\n",
      "2023-07-13 16:23:57.040348: I tensorflow/core/common_runtime/executor.cc:1197] [/device:CPU:0] (DEBUG INFO) Executor start aborting (this does not indicate an error and you can ignore this message): INVALID_ARGUMENT: You must feed a value for placeholder tensor 'serving_default_input_2' with dtype string and shape [?]\n",
      "\t [[{{node serving_default_input_2}}]]\n"
     ]
    },
    {
     "name": "stdout",
     "output_type": "stream",
     "text": [
      "INFO:tensorflow:Assets written to: french_model/assets\n"
     ]
    },
    {
     "name": "stderr",
     "output_type": "stream",
     "text": [
      "INFO:tensorflow:Assets written to: french_model/assets\n"
     ]
    },
    {
     "name": "stdout",
     "output_type": "stream",
     "text": [
      "5000/5000 [==============================] - 7858s 2s/step - loss: 0.0254 - root_mean_squared_error: 0.1595 - val_loss: 0.0203 - val_root_mean_squared_error: 0.1423\n",
      "Epoch 2/4\n",
      "5000/5000 [==============================] - 7848s 2s/step - loss: 0.0245 - root_mean_squared_error: 0.1565 - val_loss: 0.0206 - val_root_mean_squared_error: 0.1436\n",
      "Epoch 3/4\n",
      "5000/5000 [==============================] - 7850s 2s/step - loss: 0.0242 - root_mean_squared_error: 0.1556 - val_loss: 0.0232 - val_root_mean_squared_error: 0.1523\n",
      "Epoch 4/4\n",
      "5000/5000 [==============================] - 7841s 2s/step - loss: 0.0243 - root_mean_squared_error: 0.1558 - val_loss: 0.0218 - val_root_mean_squared_error: 0.1478\n"
     ]
    },
    {
     "data": {
      "text/plain": [
       "<keras.callbacks.History at 0x7faa25c63050>"
      ]
     },
     "execution_count": 79,
     "metadata": {},
     "output_type": "execute_result"
    }
   ],
   "source": [
    "# Training the model\n",
    "\n",
    "# To save step by step while training\n",
    "checkpoint = tf.keras.callbacks.ModelCheckpoint(\"french_model\", monitor=\"val_loss\", mode='min', save_best_only=True)\n",
    "# The optimizer is Adam and the metric is the RMSE\n",
    "french_model.compile(loss='mean_squared_error', optimizer='adam', metrics=[tf.keras.metrics.RootMeanSquaredError()])\n",
    "french_model.fit(x_train, y_train, batch_size=16, epochs=4, validation_data=(x_test, y_test), callbacks=[checkpoint])"
   ]
  },
  {
   "cell_type": "markdown",
   "id": "d7255252",
   "metadata": {},
   "source": [
    "## Out-of-sample performance metrics for the Jocas data"
   ]
  },
  {
   "cell_type": "code",
   "execution_count": 27,
   "id": "c77a363f",
   "metadata": {
    "tags": []
   },
   "outputs": [
    {
     "name": "stderr",
     "output_type": "stream",
     "text": [
      "2023-09-18 07:51:16.932022: W tensorflow/core/grappler/optimizers/loop_optimizer.cc:907] Skipping loop optimization for Merge node with control input: model/keras_layer/StatefulPartitionedCall/StatefulPartitionedCall/StatefulPartitionedCall/StatefulPartitionedCall/StatefulPartitionedCall/roberta_pack_inputs/StatefulPartitionedCall/Trimmer/Trim/RoundRobinTrimmer/generate_mask/RaggedConcat/assert_equal_1/Assert/AssertGuard/branch_executed/_1505\n"
     ]
    },
    {
     "name": "stdout",
     "output_type": "stream",
     "text": [
      "625/625 [==============================] - 1286s 2s/step\n"
     ]
    },
    {
     "data": {
      "text/html": [
       "<div>\n",
       "<style scoped>\n",
       "    .dataframe tbody tr th:only-of-type {\n",
       "        vertical-align: middle;\n",
       "    }\n",
       "\n",
       "    .dataframe tbody tr th {\n",
       "        vertical-align: top;\n",
       "    }\n",
       "\n",
       "    .dataframe thead th {\n",
       "        text-align: right;\n",
       "    }\n",
       "</style>\n",
       "<table border=\"1\" class=\"dataframe\">\n",
       "  <thead>\n",
       "    <tr style=\"text-align: right;\">\n",
       "      <th></th>\n",
       "      <th>ln_salary</th>\n",
       "      <th>predictions</th>\n",
       "    </tr>\n",
       "  </thead>\n",
       "  <tbody>\n",
       "    <tr>\n",
       "      <th>1135513</th>\n",
       "      <td>10</td>\n",
       "      <td>9.893615</td>\n",
       "    </tr>\n",
       "    <tr>\n",
       "      <th>1108081</th>\n",
       "      <td>10</td>\n",
       "      <td>9.969340</td>\n",
       "    </tr>\n",
       "    <tr>\n",
       "      <th>674126</th>\n",
       "      <td>10</td>\n",
       "      <td>9.967471</td>\n",
       "    </tr>\n",
       "    <tr>\n",
       "      <th>429061</th>\n",
       "      <td>10</td>\n",
       "      <td>9.838574</td>\n",
       "    </tr>\n",
       "    <tr>\n",
       "      <th>629934</th>\n",
       "      <td>10</td>\n",
       "      <td>9.839849</td>\n",
       "    </tr>\n",
       "    <tr>\n",
       "      <th>355145</th>\n",
       "      <td>10</td>\n",
       "      <td>9.857074</td>\n",
       "    </tr>\n",
       "    <tr>\n",
       "      <th>1307817</th>\n",
       "      <td>11</td>\n",
       "      <td>10.186847</td>\n",
       "    </tr>\n",
       "    <tr>\n",
       "      <th>282433</th>\n",
       "      <td>10</td>\n",
       "      <td>9.881597</td>\n",
       "    </tr>\n",
       "    <tr>\n",
       "      <th>533923</th>\n",
       "      <td>10</td>\n",
       "      <td>9.776075</td>\n",
       "    </tr>\n",
       "    <tr>\n",
       "      <th>1346234</th>\n",
       "      <td>10</td>\n",
       "      <td>9.977407</td>\n",
       "    </tr>\n",
       "  </tbody>\n",
       "</table>\n",
       "</div>"
      ],
      "text/plain": [
       "         ln_salary  predictions\n",
       "1135513         10     9.893615\n",
       "1108081         10     9.969340\n",
       "674126          10     9.967471\n",
       "429061          10     9.838574\n",
       "629934          10     9.839849\n",
       "355145          10     9.857074\n",
       "1307817         11    10.186847\n",
       "282433          10     9.881597\n",
       "533923          10     9.776075\n",
       "1346234         10     9.977407"
      ]
     },
     "execution_count": 27,
     "metadata": {},
     "output_type": "execute_result"
    }
   ],
   "source": [
    "# Out-of-sample prediction to evaluate performance\n",
    "y_preds = french_model.predict(x_test)\n",
    "y_result=pd.DataFrame()\n",
    "y_result['ln_salary']=y_test\n",
    "y_result['predictions']=y_preds\n",
    "y_result.head(10)"
   ]
  },
  {
   "cell_type": "code",
   "execution_count": 119,
   "id": "6cefa570",
   "metadata": {
    "tags": []
   },
   "outputs": [
    {
     "name": "stdout",
     "output_type": "stream",
     "text": [
      "63/63 [==============================] - 139s 2s/step - loss: 3.8792e-04 - root_mean_squared_error: 0.0197\n",
      "Test loss: 0.00038792070699855685\n",
      "Test RMSE: 0.0196957029402256\n"
     ]
    }
   ],
   "source": [
    "#Out-of-sample RMSE\n",
    "score_jocas = french_model.evaluate(x_test, y_test)\n",
    "print(\"Test loss:\", score_jocas[0])\n",
    "print(\"Test RMSE:\", score_jocas[1])"
   ]
  },
  {
   "cell_type": "code",
   "execution_count": 120,
   "id": "5e9a6832",
   "metadata": {
    "tags": []
   },
   "outputs": [
    {
     "name": "stdout",
     "output_type": "stream",
     "text": [
      "0.5870742064067624\n"
     ]
    }
   ],
   "source": [
    "#Out-of-sample coefficient of variation\n",
    "from sklearn.metrics import r2_score\n",
    "r2_jocas = r2_score(y_result['ln_salary'], y_result['predictions'])\n",
    "print(r2_jocas)"
   ]
  },
  {
   "cell_type": "markdown",
   "id": "adcfc197",
   "metadata": {},
   "source": [
    "## Out-of-sample performance metrics for the Pole Emploi skills data"
   ]
  },
  {
   "cell_type": "code",
   "execution_count": 38,
   "id": "d3c0f290",
   "metadata": {},
   "outputs": [
    {
     "name": "stdout",
     "output_type": "stream",
     "text": [
      "Epoch 4/4\n"
     ]
    },
    {
     "name": "stderr",
     "output_type": "stream",
     "text": [
      "2023-09-20 07:52:41.425180: W tensorflow/core/grappler/optimizers/loop_optimizer.cc:907] Skipping loop optimization for Merge node with control input: model_1/keras_layer/StatefulPartitionedCall/StatefulPartitionedCall/StatefulPartitionedCall/roberta_pack_inputs/StatefulPartitionedCall/Trimmer/Trim/RoundRobinTrimmer/generate_mask/RaggedConcat/assert_equal_1/Assert/AssertGuard/branch_executed/_8591\n"
     ]
    },
    {
     "name": "stdout",
     "output_type": "stream",
     "text": [
      "5000/5000 [==============================] - ETA: 0s - loss: 0.0243 - root_mean_squared_error: 0.1560"
     ]
    },
    {
     "name": "stderr",
     "output_type": "stream",
     "text": [
      "2023-09-20 09:36:27.024456: W tensorflow/core/grappler/optimizers/loop_optimizer.cc:907] Skipping loop optimization for Merge node with control input: model_1/keras_layer/StatefulPartitionedCall/StatefulPartitionedCall/StatefulPartitionedCall/roberta_pack_inputs/StatefulPartitionedCall/Trimmer/Trim/RoundRobinTrimmer/generate_mask/RaggedConcat/assert_equal_1/Assert/AssertGuard/branch_executed/_1055\n",
      "2023-09-20 10:00:59.671012: I tensorflow/core/common_runtime/executor.cc:1197] [/device:CPU:0] (DEBUG INFO) Executor start aborting (this does not indicate an error and you can ignore this message): INVALID_ARGUMENT: You must feed a value for placeholder tensor 'input_2' with dtype string and shape [?]\n",
      "\t [[{{node input_2}}]]\n",
      "2023-09-20 10:00:59.904737: I tensorflow/core/common_runtime/executor.cc:1197] [/device:CPU:0] (DEBUG INFO) Executor start aborting (this does not indicate an error and you can ignore this message): INVALID_ARGUMENT: You must feed a value for placeholder tensor 'inputs' with dtype string and shape [?]\n",
      "\t [[{{node inputs}}]]\n",
      "2023-09-20 10:00:59.929723: I tensorflow/core/common_runtime/executor.cc:1197] [/device:CPU:0] (DEBUG INFO) Executor start aborting (this does not indicate an error and you can ignore this message): INVALID_ARGUMENT: You must feed a value for placeholder tensor 'input_2' with dtype string and shape [?]\n",
      "\t [[{{node input_2}}]]\n",
      "2023-09-20 10:00:59.984316: I tensorflow/core/common_runtime/executor.cc:1197] [/device:CPU:0] (DEBUG INFO) Executor start aborting (this does not indicate an error and you can ignore this message): INVALID_ARGUMENT: You must feed a value for placeholder tensor 'inputs_1' with dtype int32 and shape [?,128]\n",
      "\t [[{{node inputs_1}}]]\n",
      "2023-09-20 10:00:59.984378: I tensorflow/core/common_runtime/executor.cc:1197] [/device:CPU:0] (DEBUG INFO) Executor start aborting (this does not indicate an error and you can ignore this message): INVALID_ARGUMENT: You must feed a value for placeholder tensor 'inputs_2' with dtype int32 and shape [?,128]\n",
      "\t [[{{node inputs_2}}]]\n",
      "2023-09-20 10:01:00.120475: I tensorflow/core/common_runtime/executor.cc:1197] [/device:CPU:0] (DEBUG INFO) Executor start aborting (this does not indicate an error and you can ignore this message): INVALID_ARGUMENT: You must feed a value for placeholder tensor 'inputs' with dtype string and shape [?]\n",
      "\t [[{{node inputs}}]]\n",
      "2023-09-20 10:01:00.145606: I tensorflow/core/common_runtime/executor.cc:1197] [/device:CPU:0] (DEBUG INFO) Executor start aborting (this does not indicate an error and you can ignore this message): INVALID_ARGUMENT: You must feed a value for placeholder tensor 'input_2' with dtype string and shape [?]\n",
      "\t [[{{node input_2}}]]\n",
      "2023-09-20 10:01:00.198898: I tensorflow/core/common_runtime/executor.cc:1197] [/device:CPU:0] (DEBUG INFO) Executor start aborting (this does not indicate an error and you can ignore this message): INVALID_ARGUMENT: You must feed a value for placeholder tensor 'inputs_1' with dtype int32 and shape [?,128]\n",
      "\t [[{{node inputs_1}}]]\n",
      "2023-09-20 10:01:00.198960: I tensorflow/core/common_runtime/executor.cc:1197] [/device:CPU:0] (DEBUG INFO) Executor start aborting (this does not indicate an error and you can ignore this message): INVALID_ARGUMENT: You must feed a value for placeholder tensor 'inputs_2' with dtype int32 and shape [?,128]\n",
      "\t [[{{node inputs_2}}]]\n",
      "2023-09-20 10:01:00.319951: I tensorflow/core/common_runtime/executor.cc:1197] [/device:CPU:0] (DEBUG INFO) Executor start aborting (this does not indicate an error and you can ignore this message): INVALID_ARGUMENT: You must feed a value for placeholder tensor 'inputs' with dtype string and shape [?]\n",
      "\t [[{{node inputs}}]]\n",
      "2023-09-20 10:01:00.471413: I tensorflow/core/common_runtime/executor.cc:1197] [/device:CPU:0] (DEBUG INFO) Executor start aborting (this does not indicate an error and you can ignore this message): INVALID_ARGUMENT: You must feed a value for placeholder tensor 'input_2' with dtype string and shape [?]\n",
      "\t [[{{node input_2}}]]\n",
      "2023-09-20 10:01:00.506311: I tensorflow/core/common_runtime/executor.cc:1197] [/device:CPU:0] (DEBUG INFO) Executor start aborting (this does not indicate an error and you can ignore this message): INVALID_ARGUMENT: You must feed a value for placeholder tensor 'inputs' with dtype string and shape [?]\n",
      "\t [[{{node inputs}}]]\n",
      "2023-09-20 10:01:00.653406: I tensorflow/core/common_runtime/executor.cc:1197] [/device:CPU:0] (DEBUG INFO) Executor start aborting (this does not indicate an error and you can ignore this message): INVALID_ARGUMENT: You must feed a value for placeholder tensor 'input_2' with dtype string and shape [?]\n",
      "\t [[{{node input_2}}]]\n",
      "2023-09-20 10:01:00.687171: I tensorflow/core/common_runtime/executor.cc:1197] [/device:CPU:0] (DEBUG INFO) Executor start aborting (this does not indicate an error and you can ignore this message): INVALID_ARGUMENT: You must feed a value for placeholder tensor 'inputs' with dtype string and shape [?]\n",
      "\t [[{{node inputs}}]]\n",
      "2023-09-20 10:01:00.712647: I tensorflow/core/common_runtime/executor.cc:1197] [/device:CPU:0] (DEBUG INFO) Executor start aborting (this does not indicate an error and you can ignore this message): INVALID_ARGUMENT: You must feed a value for placeholder tensor 'inputs' with dtype string and shape [?]\n",
      "\t [[{{node inputs}}]]\n",
      "2023-09-20 10:01:00.766790: I tensorflow/core/common_runtime/executor.cc:1197] [/device:CPU:0] (DEBUG INFO) Executor start aborting (this does not indicate an error and you can ignore this message): INVALID_ARGUMENT: You must feed a value for placeholder tensor 'inputs_1' with dtype int32 and shape [?,128]\n",
      "\t [[{{node inputs_1}}]]\n",
      "2023-09-20 10:01:00.766849: I tensorflow/core/common_runtime/executor.cc:1197] [/device:CPU:0] (DEBUG INFO) Executor start aborting (this does not indicate an error and you can ignore this message): INVALID_ARGUMENT: You must feed a value for placeholder tensor 'inputs_2' with dtype int32 and shape [?,128]\n",
      "\t [[{{node inputs_2}}]]\n",
      "2023-09-20 10:01:00.831446: I tensorflow/core/common_runtime/executor.cc:1197] [/device:CPU:0] (DEBUG INFO) Executor start aborting (this does not indicate an error and you can ignore this message): INVALID_ARGUMENT: You must feed a value for placeholder tensor 'inputs_1' with dtype int32 and shape [?,128]\n",
      "\t [[{{node inputs_1}}]]\n",
      "2023-09-20 10:01:00.831510: I tensorflow/core/common_runtime/executor.cc:1197] [/device:CPU:0] (DEBUG INFO) Executor start aborting (this does not indicate an error and you can ignore this message): INVALID_ARGUMENT: You must feed a value for placeholder tensor 'inputs_2' with dtype int32 and shape [?,128]\n",
      "\t [[{{node inputs_2}}]]\n",
      "2023-09-20 10:01:00.938507: I tensorflow/core/common_runtime/executor.cc:1197] [/device:CPU:0] (DEBUG INFO) Executor start aborting (this does not indicate an error and you can ignore this message): INVALID_ARGUMENT: You must feed a value for placeholder tensor 'inputs' with dtype string and shape [?]\n",
      "\t [[{{node inputs}}]]\n",
      "2023-09-20 10:01:01.026320: I tensorflow/core/common_runtime/executor.cc:1197] [/device:CPU:0] (DEBUG INFO) Executor start aborting (this does not indicate an error and you can ignore this message): INVALID_ARGUMENT: You must feed a value for placeholder tensor 'inputs' with dtype string and shape [?]\n",
      "\t [[{{node inputs}}]]\n",
      "2023-09-20 10:01:01.128787: I tensorflow/core/common_runtime/executor.cc:1197] [/device:CPU:0] (DEBUG INFO) Executor start aborting (this does not indicate an error and you can ignore this message): INVALID_ARGUMENT: You must feed a value for placeholder tensor 'input_2' with dtype string and shape [?]\n",
      "\t [[{{node input_2}}]]\n",
      "2023-09-20 10:01:01.225421: I tensorflow/core/common_runtime/executor.cc:1197] [/device:CPU:0] (DEBUG INFO) Executor start aborting (this does not indicate an error and you can ignore this message): INVALID_ARGUMENT: You must feed a value for placeholder tensor 'inputs' with dtype string and shape [?]\n",
      "\t [[{{node inputs}}]]\n",
      "2023-09-20 10:01:01.312642: I tensorflow/core/common_runtime/executor.cc:1197] [/device:CPU:0] (DEBUG INFO) Executor start aborting (this does not indicate an error and you can ignore this message): INVALID_ARGUMENT: You must feed a value for placeholder tensor 'inputs' with dtype string and shape [?]\n",
      "\t [[{{node inputs}}]]\n",
      "2023-09-20 10:01:01.347416: I tensorflow/core/common_runtime/executor.cc:1197] [/device:CPU:0] (DEBUG INFO) Executor start aborting (this does not indicate an error and you can ignore this message): INVALID_ARGUMENT: You must feed a value for placeholder tensor 'inputs' with dtype string and shape [?]\n",
      "\t [[{{node inputs}}]]\n",
      "2023-09-20 10:01:01.467222: I tensorflow/core/common_runtime/executor.cc:1197] [/device:CPU:0] (DEBUG INFO) Executor start aborting (this does not indicate an error and you can ignore this message): INVALID_ARGUMENT: You must feed a value for placeholder tensor 'inputs' with dtype string and shape [?]\n",
      "\t [[{{node inputs}}]]\n",
      "2023-09-20 10:01:01.584292: I tensorflow/core/common_runtime/executor.cc:1197] [/device:CPU:0] (DEBUG INFO) Executor start aborting (this does not indicate an error and you can ignore this message): INVALID_ARGUMENT: You must feed a value for placeholder tensor 'inputs' with dtype string and shape [?]\n",
      "\t [[{{node inputs}}]]\n",
      "2023-09-20 10:01:01.609110: I tensorflow/core/common_runtime/executor.cc:1197] [/device:CPU:0] (DEBUG INFO) Executor start aborting (this does not indicate an error and you can ignore this message): INVALID_ARGUMENT: You must feed a value for placeholder tensor 'inputs' with dtype string and shape [?]\n",
      "\t [[{{node inputs}}]]\n",
      "2023-09-20 10:01:01.634027: I tensorflow/core/common_runtime/executor.cc:1197] [/device:CPU:0] (DEBUG INFO) Executor start aborting (this does not indicate an error and you can ignore this message): INVALID_ARGUMENT: You must feed a value for placeholder tensor 'inputs' with dtype string and shape [?]\n",
      "\t [[{{node inputs}}]]\n",
      "2023-09-20 10:01:01.658793: I tensorflow/core/common_runtime/executor.cc:1197] [/device:CPU:0] (DEBUG INFO) Executor start aborting (this does not indicate an error and you can ignore this message): INVALID_ARGUMENT: You must feed a value for placeholder tensor 'inputs' with dtype string and shape [?]\n",
      "\t [[{{node inputs}}]]\n",
      "2023-09-20 10:01:01.717330: I tensorflow/core/common_runtime/executor.cc:1197] [/device:CPU:0] (DEBUG INFO) Executor start aborting (this does not indicate an error and you can ignore this message): INVALID_ARGUMENT: You must feed a value for placeholder tensor 'inputs_input_type_ids' with dtype int32 and shape [?,128]\n",
      "\t [[{{node inputs_input_type_ids}}]]\n",
      "2023-09-20 10:01:01.717393: I tensorflow/core/common_runtime/executor.cc:1197] [/device:CPU:0] (DEBUG INFO) Executor start aborting (this does not indicate an error and you can ignore this message): INVALID_ARGUMENT: You must feed a value for placeholder tensor 'inputs_input_word_ids' with dtype int32 and shape [?,128]\n",
      "\t [[{{node inputs_input_word_ids}}]]\n",
      "2023-09-20 10:01:01.781736: I tensorflow/core/common_runtime/executor.cc:1197] [/device:CPU:0] (DEBUG INFO) Executor start aborting (this does not indicate an error and you can ignore this message): INVALID_ARGUMENT: You must feed a value for placeholder tensor 'inputs_input_type_ids' with dtype int32 and shape [?,128]\n",
      "\t [[{{node inputs_input_type_ids}}]]\n",
      "2023-09-20 10:01:01.781797: I tensorflow/core/common_runtime/executor.cc:1197] [/device:CPU:0] (DEBUG INFO) Executor start aborting (this does not indicate an error and you can ignore this message): INVALID_ARGUMENT: You must feed a value for placeholder tensor 'inputs_input_word_ids' with dtype int32 and shape [?,128]\n",
      "\t [[{{node inputs_input_word_ids}}]]\n",
      "2023-09-20 10:01:01.844832: I tensorflow/core/common_runtime/executor.cc:1197] [/device:CPU:0] (DEBUG INFO) Executor start aborting (this does not indicate an error and you can ignore this message): INVALID_ARGUMENT: You must feed a value for placeholder tensor 'inputs_input_type_ids' with dtype int32 and shape [?,128]\n",
      "\t [[{{node inputs_input_type_ids}}]]\n",
      "2023-09-20 10:01:01.844895: I tensorflow/core/common_runtime/executor.cc:1197] [/device:CPU:0] (DEBUG INFO) Executor start aborting (this does not indicate an error and you can ignore this message): INVALID_ARGUMENT: You must feed a value for placeholder tensor 'inputs_input_word_ids' with dtype int32 and shape [?,128]\n",
      "\t [[{{node inputs_input_word_ids}}]]\n",
      "2023-09-20 10:01:01.908063: I tensorflow/core/common_runtime/executor.cc:1197] [/device:CPU:0] (DEBUG INFO) Executor start aborting (this does not indicate an error and you can ignore this message): INVALID_ARGUMENT: You must feed a value for placeholder tensor 'inputs_input_type_ids' with dtype int32 and shape [?,128]\n",
      "\t [[{{node inputs_input_type_ids}}]]\n",
      "2023-09-20 10:01:01.908125: I tensorflow/core/common_runtime/executor.cc:1197] [/device:CPU:0] (DEBUG INFO) Executor start aborting (this does not indicate an error and you can ignore this message): INVALID_ARGUMENT: You must feed a value for placeholder tensor 'inputs_input_word_ids' with dtype int32 and shape [?,128]\n",
      "\t [[{{node inputs_input_word_ids}}]]\n",
      "WARNING:absl:Found untraced functions such as _jit_compiled_convolution_op, _update_step_xla, restored_function_body, restored_function_body, restored_function_body while saving (showing 5 of 362). These functions will not be directly callable after loading.\n",
      "2023-09-20 10:01:02.928517: I tensorflow/core/common_runtime/executor.cc:1197] [/device:CPU:0] (DEBUG INFO) Executor start aborting (this does not indicate an error and you can ignore this message): INVALID_ARGUMENT: You must feed a value for placeholder tensor 'serving_default_input_2' with dtype string and shape [?]\n",
      "\t [[{{node serving_default_input_2}}]]\n"
     ]
    },
    {
     "name": "stdout",
     "output_type": "stream",
     "text": [
      "INFO:tensorflow:Assets written to: pe_french_model_v2/assets\n"
     ]
    },
    {
     "name": "stderr",
     "output_type": "stream",
     "text": [
      "INFO:tensorflow:Assets written to: pe_french_model_v2/assets\n"
     ]
    },
    {
     "name": "stdout",
     "output_type": "stream",
     "text": [
      "5000/5000 [==============================] - 7708s 2s/step - loss: 0.0243 - root_mean_squared_error: 0.1560 - val_loss: 0.0206 - val_root_mean_squared_error: 0.1434\n"
     ]
    },
    {
     "data": {
      "text/plain": [
       "<keras.callbacks.History at 0x7f99c45c1d90>"
      ]
     },
     "execution_count": 38,
     "metadata": {},
     "output_type": "execute_result"
    }
   ],
   "source": [
    "# Training the model with the Pole Emploi skills data\n",
    "checkpoint = tf.keras.callbacks.ModelCheckpoint(\"pe_french_model\", monitor=\"val_loss\", mode='min', save_best_only=True)\n",
    "pe_french_model.compile(loss='mean_squared_error', optimizer='adam', metrics=[tf.keras.metrics.RootMeanSquaredError()])\n",
    "pe_french_model.fit(x_train, y_train, batch_size=16, epochs=4, validation_data=(x_test, y_test), callbacks=[checkpoint], initial_epoch=3)"
   ]
  },
  {
   "cell_type": "raw",
   "id": "592a523e",
   "metadata": {},
   "source": [
    "One can see that the RMSE of the validation sample (test sample) is equal to 0.1434 after the training."
   ]
  },
  {
   "cell_type": "code",
   "execution_count": 43,
   "id": "57086e56",
   "metadata": {
    "tags": []
   },
   "outputs": [
    {
     "name": "stderr",
     "output_type": "stream",
     "text": [
      "2023-09-20 23:12:12.891364: I tensorflow/core/common_runtime/executor.cc:1197] [/device:CPU:0] (DEBUG INFO) Executor start aborting (this does not indicate an error and you can ignore this message): INVALID_ARGUMENT: You must feed a value for placeholder tensor 'trimmer_trim_roundrobintrimmer_generate_mask_while_tile_multiples_trimmer_trim_roundrobintrimmer_generate_mask_strided_slice_0' with dtype int32\n",
      "\t [[{{node trimmer_trim_roundrobintrimmer_generate_mask_while_tile_multiples_trimmer_trim_roundrobintrimmer_generate_mask_strided_slice_0}}]]\n",
      "2023-09-20 23:12:12.891469: I tensorflow/core/common_runtime/executor.cc:1197] [/device:CPU:0] (DEBUG INFO) Executor start aborting (this does not indicate an error and you can ignore this message): INVALID_ARGUMENT: You must feed a value for placeholder tensor 'trimmer_trim_roundrobintrimmer_generate_mask_while_tile_multiples_trimmer_trim_roundrobintrimmer_generate_mask_strided_slice_0' with dtype int32\n",
      "\t [[{{node trimmer_trim_roundrobintrimmer_generate_mask_while_tile_multiples_trimmer_trim_roundrobintrimmer_generate_mask_strided_slice_0}}]]\n",
      "2023-09-20 23:12:12.891540: I tensorflow/core/common_runtime/executor.cc:1197] [/device:CPU:0] (DEBUG INFO) Executor start aborting (this does not indicate an error and you can ignore this message): INVALID_ARGUMENT: You must feed a value for placeholder tensor 'trimmer_trim_roundrobintrimmer_generate_mask_while_tile_multiples_trimmer_trim_roundrobintrimmer_generate_mask_strided_slice_0' with dtype int32\n",
      "\t [[{{node trimmer_trim_roundrobintrimmer_generate_mask_while_tile_multiples_trimmer_trim_roundrobintrimmer_generate_mask_strided_slice_0}}]]\n",
      "2023-09-20 23:12:13.347591: I tensorflow/core/common_runtime/executor.cc:1197] [/device:CPU:0] (DEBUG INFO) Executor start aborting (this does not indicate an error and you can ignore this message): INVALID_ARGUMENT: You must feed a value for placeholder tensor 'trimmer_trim_roundrobintrimmer_generate_mask_while_tile_multiples_trimmer_trim_roundrobintrimmer_generate_mask_strided_slice_0' with dtype int32\n",
      "\t [[{{node trimmer_trim_roundrobintrimmer_generate_mask_while_tile_multiples_trimmer_trim_roundrobintrimmer_generate_mask_strided_slice_0}}]]\n",
      "2023-09-20 23:12:13.347702: I tensorflow/core/common_runtime/executor.cc:1197] [/device:CPU:0] (DEBUG INFO) Executor start aborting (this does not indicate an error and you can ignore this message): INVALID_ARGUMENT: You must feed a value for placeholder tensor 'trimmer_trim_roundrobintrimmer_generate_mask_while_tile_multiples_trimmer_trim_roundrobintrimmer_generate_mask_strided_slice_0' with dtype int32\n",
      "\t [[{{node trimmer_trim_roundrobintrimmer_generate_mask_while_tile_multiples_trimmer_trim_roundrobintrimmer_generate_mask_strided_slice_0}}]]\n",
      "2023-09-20 23:12:13.347775: I tensorflow/core/common_runtime/executor.cc:1197] [/device:CPU:0] (DEBUG INFO) Executor start aborting (this does not indicate an error and you can ignore this message): INVALID_ARGUMENT: You must feed a value for placeholder tensor 'trimmer_trim_roundrobintrimmer_generate_mask_while_tile_multiples_trimmer_trim_roundrobintrimmer_generate_mask_strided_slice_0' with dtype int32\n",
      "\t [[{{node trimmer_trim_roundrobintrimmer_generate_mask_while_tile_multiples_trimmer_trim_roundrobintrimmer_generate_mask_strided_slice_0}}]]\n",
      "2023-09-20 23:12:13.456396: I tensorflow/core/common_runtime/executor.cc:1197] [/device:CPU:0] (DEBUG INFO) Executor start aborting (this does not indicate an error and you can ignore this message): INVALID_ARGUMENT: You must feed a value for placeholder tensor 'trimmer_trim_roundrobintrimmer_generate_mask_while_tile_multiples_trimmer_trim_roundrobintrimmer_generate_mask_strided_slice_0' with dtype int32\n",
      "\t [[{{node trimmer_trim_roundrobintrimmer_generate_mask_while_tile_multiples_trimmer_trim_roundrobintrimmer_generate_mask_strided_slice_0}}]]\n",
      "2023-09-20 23:12:13.456497: I tensorflow/core/common_runtime/executor.cc:1197] [/device:CPU:0] (DEBUG INFO) Executor start aborting (this does not indicate an error and you can ignore this message): INVALID_ARGUMENT: You must feed a value for placeholder tensor 'trimmer_trim_roundrobintrimmer_generate_mask_while_tile_multiples_trimmer_trim_roundrobintrimmer_generate_mask_strided_slice_0' with dtype int32\n",
      "\t [[{{node trimmer_trim_roundrobintrimmer_generate_mask_while_tile_multiples_trimmer_trim_roundrobintrimmer_generate_mask_strided_slice_0}}]]\n",
      "2023-09-20 23:12:13.456566: I tensorflow/core/common_runtime/executor.cc:1197] [/device:CPU:0] (DEBUG INFO) Executor start aborting (this does not indicate an error and you can ignore this message): INVALID_ARGUMENT: You must feed a value for placeholder tensor 'trimmer_trim_roundrobintrimmer_generate_mask_while_tile_multiples_trimmer_trim_roundrobintrimmer_generate_mask_strided_slice_0' with dtype int32\n",
      "\t [[{{node trimmer_trim_roundrobintrimmer_generate_mask_while_tile_multiples_trimmer_trim_roundrobintrimmer_generate_mask_strided_slice_0}}]]\n",
      "2023-09-20 23:12:13.786878: I tensorflow/core/common_runtime/executor.cc:1197] [/device:CPU:0] (DEBUG INFO) Executor start aborting (this does not indicate an error and you can ignore this message): INVALID_ARGUMENT: You must feed a value for placeholder tensor 'roberta_pack_inputs_trimmer_trim_roundrobintrimmer_generate_mask_while_tile_multiples_roberta_pack_inputs_trimmer_trim_roundrobintrimmer_generate_mask_strided_slice_0' with dtype int32\n",
      "\t [[{{node roberta_pack_inputs_trimmer_trim_roundrobintrimmer_generate_mask_while_tile_multiples_roberta_pack_inputs_trimmer_trim_roundrobintrimmer_generate_mask_strided_slice_0}}]]\n",
      "2023-09-20 23:12:13.786977: I tensorflow/core/common_runtime/executor.cc:1197] [/device:CPU:0] (DEBUG INFO) Executor start aborting (this does not indicate an error and you can ignore this message): INVALID_ARGUMENT: You must feed a value for placeholder tensor 'roberta_pack_inputs_trimmer_trim_roundrobintrimmer_generate_mask_while_tile_multiples_roberta_pack_inputs_trimmer_trim_roundrobintrimmer_generate_mask_strided_slice_0' with dtype int32\n",
      "\t [[{{node roberta_pack_inputs_trimmer_trim_roundrobintrimmer_generate_mask_while_tile_multiples_roberta_pack_inputs_trimmer_trim_roundrobintrimmer_generate_mask_strided_slice_0}}]]\n",
      "2023-09-20 23:12:13.787046: I tensorflow/core/common_runtime/executor.cc:1197] [/device:CPU:0] (DEBUG INFO) Executor start aborting (this does not indicate an error and you can ignore this message): INVALID_ARGUMENT: You must feed a value for placeholder tensor 'roberta_pack_inputs_trimmer_trim_roundrobintrimmer_generate_mask_while_tile_multiples_roberta_pack_inputs_trimmer_trim_roundrobintrimmer_generate_mask_strided_slice_0' with dtype int32\n",
      "\t [[{{node roberta_pack_inputs_trimmer_trim_roundrobintrimmer_generate_mask_while_tile_multiples_roberta_pack_inputs_trimmer_trim_roundrobintrimmer_generate_mask_strided_slice_0}}]]\n",
      "2023-09-20 23:12:13.844467: I tensorflow/core/common_runtime/executor.cc:1197] [/device:CPU:0] (DEBUG INFO) Executor start aborting (this does not indicate an error and you can ignore this message): INVALID_ARGUMENT: You must feed a value for placeholder tensor 'trimmer_trim_roundrobintrimmer_generate_mask_while_tile_multiples_trimmer_trim_roundrobintrimmer_generate_mask_strided_slice_0' with dtype int32\n",
      "\t [[{{node trimmer_trim_roundrobintrimmer_generate_mask_while_tile_multiples_trimmer_trim_roundrobintrimmer_generate_mask_strided_slice_0}}]]\n",
      "2023-09-20 23:12:13.844560: I tensorflow/core/common_runtime/executor.cc:1197] [/device:CPU:0] (DEBUG INFO) Executor start aborting (this does not indicate an error and you can ignore this message): INVALID_ARGUMENT: You must feed a value for placeholder tensor 'trimmer_trim_roundrobintrimmer_generate_mask_while_tile_multiples_trimmer_trim_roundrobintrimmer_generate_mask_strided_slice_0' with dtype int32\n",
      "\t [[{{node trimmer_trim_roundrobintrimmer_generate_mask_while_tile_multiples_trimmer_trim_roundrobintrimmer_generate_mask_strided_slice_0}}]]\n",
      "2023-09-20 23:12:13.844629: I tensorflow/core/common_runtime/executor.cc:1197] [/device:CPU:0] (DEBUG INFO) Executor start aborting (this does not indicate an error and you can ignore this message): INVALID_ARGUMENT: You must feed a value for placeholder tensor 'trimmer_trim_roundrobintrimmer_generate_mask_while_tile_multiples_trimmer_trim_roundrobintrimmer_generate_mask_strided_slice_0' with dtype int32\n",
      "\t [[{{node trimmer_trim_roundrobintrimmer_generate_mask_while_tile_multiples_trimmer_trim_roundrobintrimmer_generate_mask_strided_slice_0}}]]\n",
      "2023-09-20 23:12:14.097556: I tensorflow/core/common_runtime/executor.cc:1197] [/device:CPU:0] (DEBUG INFO) Executor start aborting (this does not indicate an error and you can ignore this message): INVALID_ARGUMENT: You must feed a value for placeholder tensor 'trimmer_trim_roundrobintrimmer_generate_mask_while_tile_multiples_trimmer_trim_roundrobintrimmer_generate_mask_strided_slice_0' with dtype int32\n",
      "\t [[{{node trimmer_trim_roundrobintrimmer_generate_mask_while_tile_multiples_trimmer_trim_roundrobintrimmer_generate_mask_strided_slice_0}}]]\n",
      "2023-09-20 23:12:14.097659: I tensorflow/core/common_runtime/executor.cc:1197] [/device:CPU:0] (DEBUG INFO) Executor start aborting (this does not indicate an error and you can ignore this message): INVALID_ARGUMENT: You must feed a value for placeholder tensor 'trimmer_trim_roundrobintrimmer_generate_mask_while_tile_multiples_trimmer_trim_roundrobintrimmer_generate_mask_strided_slice_0' with dtype int32\n",
      "\t [[{{node trimmer_trim_roundrobintrimmer_generate_mask_while_tile_multiples_trimmer_trim_roundrobintrimmer_generate_mask_strided_slice_0}}]]\n",
      "2023-09-20 23:12:14.097729: I tensorflow/core/common_runtime/executor.cc:1197] [/device:CPU:0] (DEBUG INFO) Executor start aborting (this does not indicate an error and you can ignore this message): INVALID_ARGUMENT: You must feed a value for placeholder tensor 'trimmer_trim_roundrobintrimmer_generate_mask_while_tile_multiples_trimmer_trim_roundrobintrimmer_generate_mask_strided_slice_0' with dtype int32\n",
      "\t [[{{node trimmer_trim_roundrobintrimmer_generate_mask_while_tile_multiples_trimmer_trim_roundrobintrimmer_generate_mask_strided_slice_0}}]]\n",
      "2023-09-20 23:12:14.412241: I tensorflow/core/common_runtime/executor.cc:1197] [/device:CPU:0] (DEBUG INFO) Executor start aborting (this does not indicate an error and you can ignore this message): INVALID_ARGUMENT: You must feed a value for placeholder tensor 'roberta_pack_inputs_trimmer_trim_roundrobintrimmer_generate_mask_while_tile_multiples_roberta_pack_inputs_trimmer_trim_roundrobintrimmer_generate_mask_strided_slice_0' with dtype int32\n",
      "\t [[{{node roberta_pack_inputs_trimmer_trim_roundrobintrimmer_generate_mask_while_tile_multiples_roberta_pack_inputs_trimmer_trim_roundrobintrimmer_generate_mask_strided_slice_0}}]]\n",
      "2023-09-20 23:12:14.412343: I tensorflow/core/common_runtime/executor.cc:1197] [/device:CPU:0] (DEBUG INFO) Executor start aborting (this does not indicate an error and you can ignore this message): INVALID_ARGUMENT: You must feed a value for placeholder tensor 'roberta_pack_inputs_trimmer_trim_roundrobintrimmer_generate_mask_while_tile_multiples_roberta_pack_inputs_trimmer_trim_roundrobintrimmer_generate_mask_strided_slice_0' with dtype int32\n",
      "\t [[{{node roberta_pack_inputs_trimmer_trim_roundrobintrimmer_generate_mask_while_tile_multiples_roberta_pack_inputs_trimmer_trim_roundrobintrimmer_generate_mask_strided_slice_0}}]]\n",
      "2023-09-20 23:12:14.412412: I tensorflow/core/common_runtime/executor.cc:1197] [/device:CPU:0] (DEBUG INFO) Executor start aborting (this does not indicate an error and you can ignore this message): INVALID_ARGUMENT: You must feed a value for placeholder tensor 'roberta_pack_inputs_trimmer_trim_roundrobintrimmer_generate_mask_while_tile_multiples_roberta_pack_inputs_trimmer_trim_roundrobintrimmer_generate_mask_strided_slice_0' with dtype int32\n",
      "\t [[{{node roberta_pack_inputs_trimmer_trim_roundrobintrimmer_generate_mask_while_tile_multiples_roberta_pack_inputs_trimmer_trim_roundrobintrimmer_generate_mask_strided_slice_0}}]]\n",
      "2023-09-20 23:12:14.500734: I tensorflow/core/common_runtime/executor.cc:1197] [/device:CPU:0] (DEBUG INFO) Executor start aborting (this does not indicate an error and you can ignore this message): INVALID_ARGUMENT: You must feed a value for placeholder tensor 'model_1_roberta_pack_inputs_trimmer_trim_roundrobintrimmer_generate_mask_while_tile_multiples_model_1_roberta_pack_inputs_trimmer_trim_roundrobintrimmer_generate_mask_strided_slice_0' with dtype int32\n",
      "\t [[{{node model_1_roberta_pack_inputs_trimmer_trim_roundrobintrimmer_generate_mask_while_tile_multiples_model_1_roberta_pack_inputs_trimmer_trim_roundrobintrimmer_generate_mask_strided_slice_0}}]]\n",
      "2023-09-20 23:12:14.500832: I tensorflow/core/common_runtime/executor.cc:1197] [/device:CPU:0] (DEBUG INFO) Executor start aborting (this does not indicate an error and you can ignore this message): INVALID_ARGUMENT: You must feed a value for placeholder tensor 'model_1_roberta_pack_inputs_trimmer_trim_roundrobintrimmer_generate_mask_while_tile_multiples_model_1_roberta_pack_inputs_trimmer_trim_roundrobintrimmer_generate_mask_strided_slice_0' with dtype int32\n",
      "\t [[{{node model_1_roberta_pack_inputs_trimmer_trim_roundrobintrimmer_generate_mask_while_tile_multiples_model_1_roberta_pack_inputs_trimmer_trim_roundrobintrimmer_generate_mask_strided_slice_0}}]]\n",
      "2023-09-20 23:12:14.500903: I tensorflow/core/common_runtime/executor.cc:1197] [/device:CPU:0] (DEBUG INFO) Executor start aborting (this does not indicate an error and you can ignore this message): INVALID_ARGUMENT: You must feed a value for placeholder tensor 'model_1_roberta_pack_inputs_trimmer_trim_roundrobintrimmer_generate_mask_while_tile_multiples_model_1_roberta_pack_inputs_trimmer_trim_roundrobintrimmer_generate_mask_strided_slice_0' with dtype int32\n",
      "\t [[{{node model_1_roberta_pack_inputs_trimmer_trim_roundrobintrimmer_generate_mask_while_tile_multiples_model_1_roberta_pack_inputs_trimmer_trim_roundrobintrimmer_generate_mask_strided_slice_0}}]]\n",
      "2023-09-20 23:12:15.764575: I tensorflow/core/common_runtime/executor.cc:1197] [/device:CPU:0] (DEBUG INFO) Executor start aborting (this does not indicate an error and you can ignore this message): INVALID_ARGUMENT: You must feed a value for placeholder tensor 'trimmer_trim_roundrobintrimmer_generate_mask_while_tile_multiples_trimmer_trim_roundrobintrimmer_generate_mask_strided_slice_0' with dtype int32\n",
      "\t [[{{node trimmer_trim_roundrobintrimmer_generate_mask_while_tile_multiples_trimmer_trim_roundrobintrimmer_generate_mask_strided_slice_0}}]]\n",
      "2023-09-20 23:12:15.764672: I tensorflow/core/common_runtime/executor.cc:1197] [/device:CPU:0] (DEBUG INFO) Executor start aborting (this does not indicate an error and you can ignore this message): INVALID_ARGUMENT: You must feed a value for placeholder tensor 'trimmer_trim_roundrobintrimmer_generate_mask_while_tile_multiples_trimmer_trim_roundrobintrimmer_generate_mask_strided_slice_0' with dtype int32\n",
      "\t [[{{node trimmer_trim_roundrobintrimmer_generate_mask_while_tile_multiples_trimmer_trim_roundrobintrimmer_generate_mask_strided_slice_0}}]]\n",
      "2023-09-20 23:12:15.764741: I tensorflow/core/common_runtime/executor.cc:1197] [/device:CPU:0] (DEBUG INFO) Executor start aborting (this does not indicate an error and you can ignore this message): INVALID_ARGUMENT: You must feed a value for placeholder tensor 'trimmer_trim_roundrobintrimmer_generate_mask_while_tile_multiples_trimmer_trim_roundrobintrimmer_generate_mask_strided_slice_0' with dtype int32\n",
      "\t [[{{node trimmer_trim_roundrobintrimmer_generate_mask_while_tile_multiples_trimmer_trim_roundrobintrimmer_generate_mask_strided_slice_0}}]]\n",
      "2023-09-20 23:12:15.879823: I tensorflow/core/common_runtime/executor.cc:1197] [/device:CPU:0] (DEBUG INFO) Executor start aborting (this does not indicate an error and you can ignore this message): INVALID_ARGUMENT: You must feed a value for placeholder tensor 'seq_length' with dtype int32\n",
      "\t [[{{node seq_length}}]]\n",
      "2023-09-20 23:12:15.880064: I tensorflow/core/common_runtime/executor.cc:1197] [/device:CPU:0] (DEBUG INFO) Executor start aborting (this does not indicate an error and you can ignore this message): INVALID_ARGUMENT: You must feed a value for placeholder tensor 'seq_length' with dtype int32\n",
      "\t [[{{node seq_length}}]]\n",
      "2023-09-20 23:12:15.880159: I tensorflow/core/common_runtime/executor.cc:1197] [/device:CPU:0] (DEBUG INFO) Executor start aborting (this does not indicate an error and you can ignore this message): INVALID_ARGUMENT: You must feed a value for placeholder tensor 'seq_length' with dtype int32\n",
      "\t [[{{node seq_length}}]]\n",
      "2023-09-20 23:12:15.880543: I tensorflow/core/common_runtime/executor.cc:1197] [/device:CPU:0] (DEBUG INFO) Executor start aborting (this does not indicate an error and you can ignore this message): INVALID_ARGUMENT: You must feed a value for placeholder tensor 'seq_length' with dtype int32\n",
      "\t [[{{node seq_length}}]]\n",
      "2023-09-20 23:12:15.880668: I tensorflow/core/common_runtime/executor.cc:1197] [/device:CPU:0] (DEBUG INFO) Executor start aborting (this does not indicate an error and you can ignore this message): INVALID_ARGUMENT: You must feed a value for placeholder tensor 'seq_length' with dtype int32\n",
      "\t [[{{node seq_length}}]]\n",
      "2023-09-20 23:12:15.880731: I tensorflow/core/common_runtime/executor.cc:1197] [/device:CPU:0] (DEBUG INFO) Executor start aborting (this does not indicate an error and you can ignore this message): INVALID_ARGUMENT: You must feed a value for placeholder tensor 'seq_length' with dtype int32\n",
      "\t [[{{node seq_length}}]]\n",
      "2023-09-20 23:12:15.880788: I tensorflow/core/common_runtime/executor.cc:1197] [/device:CPU:0] (DEBUG INFO) Executor start aborting (this does not indicate an error and you can ignore this message): INVALID_ARGUMENT: You must feed a value for placeholder tensor 'seq_length' with dtype int32\n",
      "\t [[{{node seq_length}}]]\n",
      "2023-09-20 23:12:16.041288: I tensorflow/core/common_runtime/executor.cc:1197] [/device:CPU:0] (DEBUG INFO) Executor start aborting (this does not indicate an error and you can ignore this message): INVALID_ARGUMENT: You must feed a value for placeholder tensor 'seq_length' with dtype int32\n",
      "\t [[{{node seq_length}}]]\n",
      "2023-09-20 23:12:16.041490: I tensorflow/core/common_runtime/executor.cc:1197] [/device:CPU:0] (DEBUG INFO) Executor start aborting (this does not indicate an error and you can ignore this message): INVALID_ARGUMENT: You must feed a value for placeholder tensor 'seq_length' with dtype int32\n",
      "\t [[{{node seq_length}}]]\n",
      "2023-09-20 23:12:16.041583: I tensorflow/core/common_runtime/executor.cc:1197] [/device:CPU:0] (DEBUG INFO) Executor start aborting (this does not indicate an error and you can ignore this message): INVALID_ARGUMENT: You must feed a value for placeholder tensor 'seq_length' with dtype int32\n",
      "\t [[{{node seq_length}}]]\n",
      "2023-09-20 23:12:16.041847: I tensorflow/core/common_runtime/executor.cc:1197] [/device:CPU:0] (DEBUG INFO) Executor start aborting (this does not indicate an error and you can ignore this message): INVALID_ARGUMENT: You must feed a value for placeholder tensor 'seq_length' with dtype int32\n",
      "\t [[{{node seq_length}}]]\n",
      "2023-09-20 23:12:16.041975: I tensorflow/core/common_runtime/executor.cc:1197] [/device:CPU:0] (DEBUG INFO) Executor start aborting (this does not indicate an error and you can ignore this message): INVALID_ARGUMENT: You must feed a value for placeholder tensor 'seq_length' with dtype int32\n",
      "\t [[{{node seq_length}}]]\n",
      "2023-09-20 23:12:16.042034: I tensorflow/core/common_runtime/executor.cc:1197] [/device:CPU:0] (DEBUG INFO) Executor start aborting (this does not indicate an error and you can ignore this message): INVALID_ARGUMENT: You must feed a value for placeholder tensor 'seq_length' with dtype int32\n",
      "\t [[{{node seq_length}}]]\n",
      "2023-09-20 23:12:16.042089: I tensorflow/core/common_runtime/executor.cc:1197] [/device:CPU:0] (DEBUG INFO) Executor start aborting (this does not indicate an error and you can ignore this message): INVALID_ARGUMENT: You must feed a value for placeholder tensor 'seq_length' with dtype int32\n",
      "\t [[{{node seq_length}}]]\n",
      "2023-09-20 23:12:16.239956: I tensorflow/core/common_runtime/executor.cc:1197] [/device:CPU:0] (DEBUG INFO) Executor start aborting (this does not indicate an error and you can ignore this message): INVALID_ARGUMENT: You must feed a value for placeholder tensor 'seq_length' with dtype int32\n",
      "\t [[{{node seq_length}}]]\n",
      "2023-09-20 23:12:16.240152: I tensorflow/core/common_runtime/executor.cc:1197] [/device:CPU:0] (DEBUG INFO) Executor start aborting (this does not indicate an error and you can ignore this message): INVALID_ARGUMENT: You must feed a value for placeholder tensor 'seq_length' with dtype int32\n",
      "\t [[{{node seq_length}}]]\n",
      "2023-09-20 23:12:16.240244: I tensorflow/core/common_runtime/executor.cc:1197] [/device:CPU:0] (DEBUG INFO) Executor start aborting (this does not indicate an error and you can ignore this message): INVALID_ARGUMENT: You must feed a value for placeholder tensor 'seq_length' with dtype int32\n",
      "\t [[{{node seq_length}}]]\n",
      "2023-09-20 23:12:16.240506: I tensorflow/core/common_runtime/executor.cc:1197] [/device:CPU:0] (DEBUG INFO) Executor start aborting (this does not indicate an error and you can ignore this message): INVALID_ARGUMENT: You must feed a value for placeholder tensor 'seq_length' with dtype int32\n",
      "\t [[{{node seq_length}}]]\n",
      "2023-09-20 23:12:16.240626: I tensorflow/core/common_runtime/executor.cc:1197] [/device:CPU:0] (DEBUG INFO) Executor start aborting (this does not indicate an error and you can ignore this message): INVALID_ARGUMENT: You must feed a value for placeholder tensor 'seq_length' with dtype int32\n",
      "\t [[{{node seq_length}}]]\n",
      "2023-09-20 23:12:16.240688: I tensorflow/core/common_runtime/executor.cc:1197] [/device:CPU:0] (DEBUG INFO) Executor start aborting (this does not indicate an error and you can ignore this message): INVALID_ARGUMENT: You must feed a value for placeholder tensor 'seq_length' with dtype int32\n",
      "\t [[{{node seq_length}}]]\n",
      "2023-09-20 23:12:16.240745: I tensorflow/core/common_runtime/executor.cc:1197] [/device:CPU:0] (DEBUG INFO) Executor start aborting (this does not indicate an error and you can ignore this message): INVALID_ARGUMENT: You must feed a value for placeholder tensor 'seq_length' with dtype int32\n",
      "\t [[{{node seq_length}}]]\n",
      "2023-09-20 23:12:16.623469: I tensorflow/core/common_runtime/executor.cc:1197] [/device:CPU:0] (DEBUG INFO) Executor start aborting (this does not indicate an error and you can ignore this message): INVALID_ARGUMENT: You must feed a value for placeholder tensor 'seq_length' with dtype int32\n",
      "\t [[{{node seq_length}}]]\n",
      "2023-09-20 23:12:16.623726: I tensorflow/core/common_runtime/executor.cc:1197] [/device:CPU:0] (DEBUG INFO) Executor start aborting (this does not indicate an error and you can ignore this message): INVALID_ARGUMENT: You must feed a value for placeholder tensor 'seq_length' with dtype int32\n",
      "\t [[{{node seq_length}}]]\n",
      "2023-09-20 23:12:16.623823: I tensorflow/core/common_runtime/executor.cc:1197] [/device:CPU:0] (DEBUG INFO) Executor start aborting (this does not indicate an error and you can ignore this message): INVALID_ARGUMENT: You must feed a value for placeholder tensor 'seq_length' with dtype int32\n",
      "\t [[{{node seq_length}}]]\n",
      "2023-09-20 23:12:16.624224: I tensorflow/core/common_runtime/executor.cc:1197] [/device:CPU:0] (DEBUG INFO) Executor start aborting (this does not indicate an error and you can ignore this message): INVALID_ARGUMENT: You must feed a value for placeholder tensor 'seq_length' with dtype int32\n",
      "\t [[{{node seq_length}}]]\n",
      "2023-09-20 23:12:16.624351: I tensorflow/core/common_runtime/executor.cc:1197] [/device:CPU:0] (DEBUG INFO) Executor start aborting (this does not indicate an error and you can ignore this message): INVALID_ARGUMENT: You must feed a value for placeholder tensor 'seq_length' with dtype int32\n",
      "\t [[{{node seq_length}}]]\n",
      "2023-09-20 23:12:16.624412: I tensorflow/core/common_runtime/executor.cc:1197] [/device:CPU:0] (DEBUG INFO) Executor start aborting (this does not indicate an error and you can ignore this message): INVALID_ARGUMENT: You must feed a value for placeholder tensor 'seq_length' with dtype int32\n",
      "\t [[{{node seq_length}}]]\n",
      "2023-09-20 23:12:16.624468: I tensorflow/core/common_runtime/executor.cc:1197] [/device:CPU:0] (DEBUG INFO) Executor start aborting (this does not indicate an error and you can ignore this message): INVALID_ARGUMENT: You must feed a value for placeholder tensor 'seq_length' with dtype int32\n",
      "\t [[{{node seq_length}}]]\n",
      "2023-09-20 23:12:20.096966: I tensorflow/core/common_runtime/executor.cc:1197] [/device:CPU:0] (DEBUG INFO) Executor start aborting (this does not indicate an error and you can ignore this message): INVALID_ARGUMENT: You must feed a value for placeholder tensor 'inputs' with dtype string and shape [?]\n",
      "\t [[{{node inputs}}]]\n",
      "2023-09-20 23:12:20.127592: I tensorflow/core/common_runtime/executor.cc:1197] [/device:CPU:0] (DEBUG INFO) Executor start aborting (this does not indicate an error and you can ignore this message): INVALID_ARGUMENT: You must feed a value for placeholder tensor 'Placeholder' with dtype string and shape [?]\n",
      "\t [[{{node Placeholder}}]]\n",
      "2023-09-20 23:12:20.183227: I tensorflow/core/common_runtime/executor.cc:1197] [/device:CPU:0] (DEBUG INFO) Executor start aborting (this does not indicate an error and you can ignore this message): INVALID_ARGUMENT: You must feed a value for placeholder tensor 'inputs_1' with dtype int32 and shape [?,128]\n",
      "\t [[{{node inputs_1}}]]\n",
      "2023-09-20 23:12:20.183296: I tensorflow/core/common_runtime/executor.cc:1197] [/device:CPU:0] (DEBUG INFO) Executor start aborting (this does not indicate an error and you can ignore this message): INVALID_ARGUMENT: You must feed a value for placeholder tensor 'inputs_2' with dtype int32 and shape [?,128]\n",
      "\t [[{{node inputs_2}}]]\n",
      "2023-09-20 23:12:20.245745: I tensorflow/core/common_runtime/executor.cc:1197] [/device:CPU:0] (DEBUG INFO) Executor start aborting (this does not indicate an error and you can ignore this message): INVALID_ARGUMENT: You must feed a value for placeholder tensor 'Placeholder_1' with dtype int32 and shape [?,128]\n",
      "\t [[{{node Placeholder_1}}]]\n",
      "2023-09-20 23:12:20.245814: I tensorflow/core/common_runtime/executor.cc:1197] [/device:CPU:0] (DEBUG INFO) Executor start aborting (this does not indicate an error and you can ignore this message): INVALID_ARGUMENT: You must feed a value for placeholder tensor 'Placeholder_2' with dtype int32 and shape [?,128]\n",
      "\t [[{{node Placeholder_2}}]]\n",
      "2023-09-20 23:12:20.988496: W tensorflow/core/grappler/optimizers/loop_optimizer.cc:907] Skipping loop optimization for Merge node with control input: model_1/keras_layer/StatefulPartitionedCall/StatefulPartitionedCall/StatefulPartitionedCall/StatefulPartitionedCall/StatefulPartitionedCall/roberta_pack_inputs/StatefulPartitionedCall/Trimmer/Trim/RoundRobinTrimmer/generate_mask/RaggedConcat/assert_equal_1/Assert/AssertGuard/branch_executed/_1505\n"
     ]
    },
    {
     "name": "stdout",
     "output_type": "stream",
     "text": [
      "625/625 [==============================] - 1276s 2s/step\n"
     ]
    },
    {
     "data": {
      "text/html": [
       "<div>\n",
       "<style scoped>\n",
       "    .dataframe tbody tr th:only-of-type {\n",
       "        vertical-align: middle;\n",
       "    }\n",
       "\n",
       "    .dataframe tbody tr th {\n",
       "        vertical-align: top;\n",
       "    }\n",
       "\n",
       "    .dataframe thead th {\n",
       "        text-align: right;\n",
       "    }\n",
       "</style>\n",
       "<table border=\"1\" class=\"dataframe\">\n",
       "  <thead>\n",
       "    <tr style=\"text-align: right;\">\n",
       "      <th></th>\n",
       "      <th>ln_salary</th>\n",
       "      <th>predictions</th>\n",
       "    </tr>\n",
       "  </thead>\n",
       "  <tbody>\n",
       "    <tr>\n",
       "      <th>86809</th>\n",
       "      <td>9.907915</td>\n",
       "      <td>9.947592</td>\n",
       "    </tr>\n",
       "    <tr>\n",
       "      <th>115890</th>\n",
       "      <td>9.977667</td>\n",
       "      <td>9.870551</td>\n",
       "    </tr>\n",
       "    <tr>\n",
       "      <th>41511</th>\n",
       "      <td>9.894185</td>\n",
       "      <td>9.870551</td>\n",
       "    </tr>\n",
       "    <tr>\n",
       "      <th>298568</th>\n",
       "      <td>10.181119</td>\n",
       "      <td>9.950929</td>\n",
       "    </tr>\n",
       "    <tr>\n",
       "      <th>87130</th>\n",
       "      <td>9.868040</td>\n",
       "      <td>9.878034</td>\n",
       "    </tr>\n",
       "    <tr>\n",
       "      <th>133646</th>\n",
       "      <td>9.934946</td>\n",
       "      <td>9.945965</td>\n",
       "    </tr>\n",
       "    <tr>\n",
       "      <th>41985</th>\n",
       "      <td>9.980449</td>\n",
       "      <td>9.866360</td>\n",
       "    </tr>\n",
       "    <tr>\n",
       "      <th>340769</th>\n",
       "      <td>9.923290</td>\n",
       "      <td>9.947592</td>\n",
       "    </tr>\n",
       "    <tr>\n",
       "      <th>362156</th>\n",
       "      <td>9.952278</td>\n",
       "      <td>9.948000</td>\n",
       "    </tr>\n",
       "    <tr>\n",
       "      <th>79635</th>\n",
       "      <td>9.907915</td>\n",
       "      <td>9.947592</td>\n",
       "    </tr>\n",
       "  </tbody>\n",
       "</table>\n",
       "</div>"
      ],
      "text/plain": [
       "        ln_salary  predictions\n",
       "86809    9.907915     9.947592\n",
       "115890   9.977667     9.870551\n",
       "41511    9.894185     9.870551\n",
       "298568  10.181119     9.950929\n",
       "87130    9.868040     9.878034\n",
       "133646   9.934946     9.945965\n",
       "41985    9.980449     9.866360\n",
       "340769   9.923290     9.947592\n",
       "362156   9.952278     9.948000\n",
       "79635    9.907915     9.947592"
      ]
     },
     "execution_count": 43,
     "metadata": {},
     "output_type": "execute_result"
    }
   ],
   "source": [
    "#Out-of-sample predictions\n",
    "pe_french_model = tf.keras.models.load_model('pe_french_model')\n",
    "y_preds_pe = pe_french_model.predict(x_test)\n",
    "y_result=pd.DataFrame()\n",
    "y_result['ln_salary']=y_test\n",
    "y_result['predictions']=y_preds_pe\n",
    "y_result.head(10)"
   ]
  },
  {
   "cell_type": "code",
   "execution_count": 44,
   "id": "4dc7e69f",
   "metadata": {
    "tags": []
   },
   "outputs": [
    {
     "name": "stdout",
     "output_type": "stream",
     "text": [
      "0.08050442166834648\n"
     ]
    }
   ],
   "source": [
    "#Out-of-sample coefficient of variation\n",
    "from sklearn.metrics import r2_score\n",
    "r2_score = r2_score(y_result['ln_salary'], y_result['predictions'])\n",
    "print(r2_score)"
   ]
  },
  {
   "cell_type": "markdown",
   "id": "8a031e66",
   "metadata": {},
   "source": [
    "## Out-of-sample performance metrics with the job description of the Pole Emploi data"
   ]
  },
  {
   "cell_type": "raw",
   "id": "3f5b76fa",
   "metadata": {},
   "source": [
    "#Ouput saved on a different notebook\n",
    "\n",
    "RMSE = 0.3188\n",
    "R_squared = 0.5249119388614032"
   ]
  },
  {
   "cell_type": "code",
   "execution_count": 44,
   "id": "b69c0a90-dfd9-4a4b-ab13-53ebb5407f09",
   "metadata": {
    "tags": []
   },
   "outputs": [
    {
     "name": "stdout",
     "output_type": "stream",
     "text": [
      "0.08050442166834648\n"
     ]
    }
   ],
   "source": [
    "from sklearn.metrics import r2_score\n",
    "r2_score = r2_score(y_result['ln_salary'], y_result['predictions'])\n",
    "print(r2_score)"
   ]
  }
 ],
 "metadata": {
  "kernelspec": {
   "display_name": "Python 3 (ipykernel)",
   "language": "python",
   "name": "python3"
  },
  "language_info": {
   "codemirror_mode": {
    "name": "ipython",
    "version": 3
   },
   "file_extension": ".py",
   "mimetype": "text/x-python",
   "name": "python",
   "nbconvert_exporter": "python",
   "pygments_lexer": "ipython3",
   "version": "3.9.13"
  }
 },
 "nbformat": 4,
 "nbformat_minor": 5
}
